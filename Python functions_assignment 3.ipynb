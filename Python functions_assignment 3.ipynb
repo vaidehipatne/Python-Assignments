{
 "cells": [
  {
   "cell_type": "markdown",
   "metadata": {},
   "source": [
    "<h1>Theory Questions</h1>"
   ]
  },
  {
   "cell_type": "markdown",
   "metadata": {},
   "source": [
    "<h4>1.\tWhat is the difference between a function and a method in Python? </h4>\n",
    "Ans: <br>\n",
    "Functions: It is a piece of code that is called by its name. It can be passed data to operate on i.e. parameters and can return the value. All the data passed to a function is explicitly passed.\n",
    "Example: <br>\n",
    "def demosum(num1, num2):<br>\n",
    "return num1 + num2<br>\n",
    "demosum(5, 3)<br>\n",
    "Output: 8<br>\n",
    "In above example demosum() is a function and num1, num2 are parameters. Return is returning the sum of two numbers num1, num2. <br>\n",
    "Methods: A method is a piece of code that is called by name that is associated with an object. It is implicitly passed for the object for which it was called. It is able to operate on data that is contained within the class.<br>\n",
    "Example:<br>\n",
    "class Cat:<br>\n",
    "    def my_method(self):<br>\n",
    "      print(\"I like a Cat\")<br>\n",
    "cat = Cat()<br>\n",
    "cat.my_method()<br>  \n",
    "Output: I like a Cat<br>\n"
   ]
  },
  {
   "cell_type": "markdown",
   "metadata": {},
   "source": [
    "<h4>2.\tExplain the concept of function arguments and parameters in Python.</h4>\n",
    "Ans:<br>\n",
    "Function parameters are the variables listed in the function definition and function arguments are the values passed to the function when it is called.<br>\n",
    "Example:<br>\n",
    "def calculate(x,y):<br>\n",
    "  return x+y, x*y<br>\n",
    "calculate(2,3)<br>\n",
    "Output: (5, 6)<br>\n",
    "In above example, x and y are parameters given to calculate function and 2, 3 are the arguments given to the calculate function while calling it.<br>\n",
    "\n"
   ]
  },
  {
   "cell_type": "markdown",
   "metadata": {},
   "source": [
    "<h4>3.\tWhat are the different ways to define and call a function in Python?</h4>\n",
    "Ans:<br>\n",
    "In Python, the function is defined with the keyword “def” and call a function by its name and parenthesis.<br>\n",
    "Example:<br>\n",
    "def calculate(x, y)<br>\n",
    "\treturn x+y<br>\n",
    "calculate(5,6)<br>\n",
    "Output: 11<br>\n",
    "In above example, def keyword is used to define a function calculate. X and y are parameters passed to the function. Return keyword will return the value of calculation x+y. calculate() is calling a function and the values mentioned inside parenthesis are the arguments on which addition operation will be performed.<br>\n"
   ]
  },
  {
   "cell_type": "markdown",
   "metadata": {},
   "source": [
    "<h4>4.\tWhat is the purpose of the `return` statement in a Python function?</h4>\n",
    "Ans: <br>\n",
    "The return statement in Python ends a function's execution and returns a value or values to the calling function.  <br>\n",
    "Example: <br>\n",
    "def hello():<br>\n",
    "  return 'Hello World'<br>\n",
    "str = hello()<br>\n",
    "print(str)<br>\n",
    "In above example hello() function is defined. Return statement is returning the value ‘Hello World’. Str is converting the function in string type. Print is simply printing the value stored in str.<br>\n"
   ]
  },
  {
   "cell_type": "markdown",
   "metadata": {},
   "source": [
    "<h4>5.\tWhat are iterators in Python and how do they differ from iterables ?</h4>\n",
    "Ans: <br>\n",
    "Iterable is an object, that one can iterate over. It generates an Iterator when passed to iter() method. An iterator is an object, which is used to iterate over an iterable object using the __next__() method. Iterators have the __next__() method, which returns the next item of the object.<br>\n",
    "Example: We know that str is iterable but it is not an iterator. where if we run this in for loop to print string then it is possible because when for loop executes it converts into an iterator to execute the code.<br>\n",
    "\n",
    "s=\"GFG\"<br>\n",
    "s=iter(s)<br>\n",
    "print(s)<br>\n",
    "print(next(s))<br>\n",
    "print(next(s))<br>\n",
    "print(next(s))<br>\n",
    "\n",
    "Output: <str_iterator object at 0x7f822a9c3210><br>\n",
    "G<br>\n",
    "F<br>\n",
    "G<br>\n",
    "\n",
    "The __next__() method will raise a StopIteration exception if there are no further elements available. <br>\n",
    "The for loop will terminate as soon as it catches a StopIteration exception.   <br>\n",
    "Let’s call the __next__() method using the next() built-in function. <br>\n",
    "\n"
   ]
  },
  {
   "cell_type": "markdown",
   "metadata": {},
   "source": [
    "<h4>6.\tExplain the concept of generators in Python and how they are defined.</h4>\n",
    "Ans: A generator function is a special type of function that returns an iterator object. <br>\n",
    "Instead of using return to send back a single value, generator functions use yield to produce a series of results over time. <br>\n",
    "This allows the function to generate values and pause its execution after each yield, maintaining its state between iterations.<br>\n",
    "\n",
    "Example: def fun(max):<br>\n",
    "  \t\t  cnt = 1<br>\n",
    "  while cnt <= max:<br>\n",
    "  \tyield cnt<br>\n",
    "cnt += 1<br>\n",
    "ctr = fun(5)<br>\n",
    "for n in ctr:<br>\n",
    "print(n)<br>\n",
    "Output: \t<br>\n",
    "1<br>\n",
    "            2<br>\n",
    "            3<br>\n",
    "            4<br>\n",
    "            5<br>\n",
    "\n",
    " \n"
   ]
  },
  {
   "cell_type": "markdown",
   "metadata": {},
   "source": [
    "<h4>7.\tWhat are the advantages of using generators over regular functions?</h4>\n",
    "Ans: Generators have following advantages over regular functions, including memory efficiency, speed, and the ability to process large amounts of data. <br>\n",
    "•\tMemory efficiency : Generators are more memory efficient than lists, especially when working with large datasets. They generate values on the fly, so they don't need to store the entire sequence in memory.<br>\n",
    "•\tSpeed: Generators can be faster than regular loops, especially when working with large datasets.<br>\n",
    "•\tLazy evaluation: Generators compute values only when needed, which can improve performance.<br>\n",
    "•\tCreating custom iterators : Generators provide a simple and memory-saving way to create iterators.<br>\n",
    "•\tCode simplicity: Generators can simplify code for iterating over datasets without explicitly requiring state management. They eliminate the need to manage the state of the iteration manually, making the code cleaner. <br>\n",
    "<br>\n",
    "Example: # generator function<br>\n",
    "def Square():<br>\n",
    "    number = 2<br>\n",
    "    while True:     #Create infinite loop<br>\n",
    "        yield number # Yield the current value of 'number'<br>\n",
    "        number *= number # Calculate the square of 'number' and update its value<br>\n",
    " <br>\n",
    "Sq = Square() # Create a generator object 'Sq' by calling the 'Square()' generator function<br>\n",
    "print(next(Sq))  # Output: 2 # Function call<br>\n",
    "print(next(Sq))  # Output: 4<br>\n",
    "Output:<br> \t2<br>\n",
    "4<br>\n"
   ]
  },
  {
   "cell_type": "markdown",
   "metadata": {},
   "source": [
    "<h4>8.\tWhat is a lambda function in Python and when is it typically used?</h4>\n",
    "Ans: A lambda function is a small, anonymous function that's used for short-term tasks. It is used to simplify the codes and improve readability.<br>\n",
    "Example : Check if a number is positive, negative, or zero<br>\n",
    "n = lambda x: \"Positive\" if x > 0 else \"Negative\" if x < 0 else \"Zero\"<br>\n",
    "print(n(5))   <br>\n",
    "print(n(-3))  <br><br>\n",
    "print(n(0))<br>\n",
    "<br>\n",
    "Output: \tPositive<br>\n",
    "Negative<br>\n",
    "Zero<br>\n"
   ]
  },
  {
   "cell_type": "markdown",
   "metadata": {},
   "source": [
    "<h4>9.\tExplain the purpose and usage of the `map()` function in Python.</h4>\n",
    "Ans: The map() function in Python allows to apply a specific function to every element within an iterable (like a list or tuple), effectively \"mapping\" the function across all items in the sequence and returning a new iterable containing the transformed results, without needing to write an explicit loop; essentially, it provides a concise way to perform the same operation on each element of an utterable.<br>\n",
    "<br>\n",
    "Example: \ts = ['1', '2', '3', '4']<br>\n",
    "res = map(int, s)<br>\n",
    "print(list(res))<br>\n",
    "Output : [1, 2, 3, 4]<br>\n"
   ]
  },
  {
   "cell_type": "markdown",
   "metadata": {},
   "source": [
    "<h4>10.\tWhat is the difference between `map()`, `reduce()`, and `filter()` functions in Python?</h4>\n",
    "Ans:  map(): The map () function returns a map object(which is an iterator) of the results after applying the given function to each item of a given iterable (list, tuple, etc.). Syntax: map(fun, iter)<br>\n",
    "fun: It is a function to which map passes each element of given iterable.<br>\n",
    "iter: iterable object to be mapped. <br>\n",
    "<br>\n",
    "Example: \t\n",
    "def double(n):<br>\n",
    " \treturn n * 2<br>\n",
    "numbers = [5, 6, 7, 8]<br>\n",
    "result = map(double, numbers)<br>\n",
    "print(list(result))<br>\n",
    "\tOutput: [10, 12, 14, 16]<br>\n",
    "<br>\n",
    "Reduce(): The reduce function is used to apply a particular function passed in its argument to all of the list elements mentioned in the sequence passed along. This function is defined in “functools” module.<br>\n",
    "Syntax: reduce(func, iterable[, initial])<br>\n",
    "fun: It is a function to execuate on each element of the iterable objec<br>\n",
    "iter: It is iterable to be reduced<br>\n",
    "Example: <br>\n",
    "import functools<br>\n",
    "numbers = [1, 2, 3, 4]<br>\n",
    "product = functools.reduce(lambda x, y: x * y, numbers)<br>\n",
    "print(\"Product of list elements:\", product)<br>\n",
    "Output: Product of list elements: 24<br>\n",
    "<br>\n",
    "Filter(): The filter() method filters the given sequence with the help of a function that tests each element in the sequence to be true or not.<br> \n",
    "Syntax: filter(function, sequence)<br>\n",
    "function: function that tests if each element of a sequence is true or not.<br>\n",
    "sequence: sequence which needs to be filtered, it can be sets, lists, tuples, or containers of any iterators.<br>\n",
    "Example: \tdef is_even(n):<br>\n",
    " return n % 2 == 0<br>\n",
    "numbers = [1, 2, 3, 4, 5, 6, 7, 8, 9, 10]<br>\n",
    "even_numbers = filter(is_even, numbers)<br>\n",
    "print(\"Even numbers:\", list(even_numbers)) <br> \n",
    " Output: Even numbers: [2, 4, 6, 8, 10]<br>\n"
   ]
  },
  {
   "cell_type": "markdown",
   "metadata": {},
   "source": [
    "<h1> Practical Questions</h1>"
   ]
  },
  {
   "cell_type": "markdown",
   "metadata": {},
   "source": [
    "<h4> 1. Write a Python function that takes a list of numbers as input and returns the sum of all even numbers in \n",
    "the list</h4>"
   ]
  },
  {
   "cell_type": "code",
   "execution_count": 6,
   "metadata": {},
   "outputs": [
    {
     "name": "stdout",
     "output_type": "stream",
     "text": [
      "string list:  ['1', '22', '66', '77', '55']\n",
      "The original list is : ['1', '22', '66', '77', '55']\n",
      "Even digit sum : 16\n"
     ]
    }
   ],
   "source": [
    "input_string = input('Enter elements of a list separated by space \\n')\n",
    "user_list = input_string.split()\n",
    "print('string list: ', user_list)\n",
    "\n",
    "print(\"The original list is : \" + str(user_list))\n",
    " \n",
    "even_sum = 0\n",
    " \n",
    "for sub in user_list:\n",
    "    # sum() used to get summation of even elements\n",
    "    even_sum += sum([int(ele) for ele in str(sub) if int(ele) % 2 == 0])\n",
    " \n",
    "print(\"Even digit sum : \" + str(even_sum))"
   ]
  },
  {
   "cell_type": "markdown",
   "metadata": {},
   "source": [
    "<h4> 2. Create a Python function that accepts a string and returns the reverse of that string</h4>"
   ]
  },
  {
   "cell_type": "code",
   "execution_count": 9,
   "metadata": {},
   "outputs": [
    {
     "name": "stdout",
     "output_type": "stream",
     "text": [
      "ihediav\n"
     ]
    }
   ],
   "source": [
    "def my_function(x):\n",
    "  return x[::-1]\n",
    "\n",
    "input_string = input('Enter a string \\n')\n",
    "\n",
    "mytxt = my_function(input_string)\n",
    "\n",
    "print(mytxt)"
   ]
  },
  {
   "cell_type": "markdown",
   "metadata": {},
   "source": [
    "<h4>3. Implement a Python function that takes a list of integers and returns a new list containing the squares of \n",
    "each number</h4>"
   ]
  },
  {
   "cell_type": "code",
   "execution_count": 11,
   "metadata": {},
   "outputs": [
    {
     "name": "stdout",
     "output_type": "stream",
     "text": [
      "Squared numbers: [1, 4, 9, 16, 25, 36]\n"
     ]
    }
   ],
   "source": [
    "def square_numbers(num_list):\n",
    "    \n",
    "    return [num ** 2 for num in num_list]\n",
    "\n",
    "numbers = input(\"Enter a list of numbers separated by spaces: \")\n",
    "numbers = [int(num) for num in numbers.split()]\n",
    "squared_numbers = square_numbers(numbers)\n",
    "print(\"Squared numbers:\", squared_numbers)\n"
   ]
  },
  {
   "cell_type": "markdown",
   "metadata": {},
   "source": [
    "<h4>4.Write a Python function that checks if a given number is prime or not from 1 to 200</h> "
   ]
  },
  {
   "cell_type": "code",
   "execution_count": 13,
   "metadata": {},
   "outputs": [
    {
     "name": "stdout",
     "output_type": "stream",
     "text": [
      "Prime numbers from 1 to 200:\n",
      "2\n",
      "3\n",
      "5\n",
      "7\n",
      "11\n",
      "13\n",
      "17\n",
      "19\n",
      "23\n",
      "29\n",
      "31\n",
      "37\n",
      "41\n",
      "43\n",
      "47\n",
      "53\n",
      "59\n",
      "61\n",
      "67\n",
      "71\n",
      "73\n",
      "79\n",
      "83\n",
      "89\n",
      "97\n",
      "101\n",
      "103\n",
      "107\n",
      "109\n",
      "113\n",
      "127\n",
      "131\n",
      "137\n",
      "139\n",
      "149\n",
      "151\n",
      "157\n",
      "163\n",
      "167\n",
      "173\n",
      "179\n",
      "181\n",
      "191\n",
      "193\n",
      "197\n",
      "199\n"
     ]
    }
   ],
   "source": [
    "def check_prime(n):\n",
    "   \n",
    "    if n <= 1:\n",
    "        return False\n",
    "    for i in range(2, int(n ** 0.5) + 1):\n",
    "        if n % i == 0:\n",
    "            return False\n",
    "    return True\n",
    "\n",
    "def print_primes(limit):\n",
    "      for num in range(1, limit + 1):\n",
    "        if check_prime(num):\n",
    "            print(num)\n",
    "\n",
    "print(\"Prime numbers from 1 to 200:\")\n",
    "print_primes(200)\n"
   ]
  },
  {
   "cell_type": "markdown",
   "metadata": {},
   "source": [
    "<h4>5. Create an iterator class in Python that generates the Fibonacci sequence up to a specified number of \n",
    "terms</h4>"
   ]
  },
  {
   "cell_type": "code",
   "execution_count": 14,
   "metadata": {},
   "outputs": [
    {
     "name": "stdout",
     "output_type": "stream",
     "text": [
      "0\n",
      "1\n",
      "1\n",
      "2\n",
      "3\n",
      "5\n",
      "8\n",
      "13\n",
      "21\n",
      "34\n"
     ]
    }
   ],
   "source": [
    "class FibonacciIterator:\n",
    "    def __init__(self, n_terms):\n",
    "        self.n_terms = n_terms # number of terms\n",
    "        self.a, self.b = 0, 1 # first 2 numbers in sequence\n",
    "        self.count = 0 # counter for number of terms generated\n",
    "    \n",
    "    def __iter__(self):\n",
    "        return self # iterator must return itself\n",
    "    \n",
    "    def __next__(self):\n",
    "        if self.count >= self.n_terms: # should stop when we reach n_terms\n",
    "            raise StopIteration\n",
    "        \n",
    "        # for first term return 0\n",
    "        if self.count == 0:\n",
    "            self.count += 1\n",
    "            return 0\n",
    "        # for second term return 1\n",
    "        elif self.count == 1:\n",
    "            self.count += 1\n",
    "            return 1\n",
    "        else:\n",
    "            # generate next fibonacci number\n",
    "            nxt_val = self.a + self.b\n",
    "            self.a = self.b # move forward in sequence assign \n",
    "            self.b = nxt_val\n",
    "            self.count += 1\n",
    "            return nxt_val\n",
    "\n",
    "fibonacci_it = FibonacciIterator(10) # Iterator object\n",
    "for num in fibonacci_it:\n",
    "    print(num)"
   ]
  },
  {
   "cell_type": "markdown",
   "metadata": {},
   "source": [
    "<h4>6.  Write a generator function in Python that yields the powers of 2 up to a given exponent</h4>"
   ]
  },
  {
   "cell_type": "code",
   "execution_count": 15,
   "metadata": {},
   "outputs": [
    {
     "name": "stdout",
     "output_type": "stream",
     "text": [
      "1\n",
      "2\n",
      "4\n",
      "8\n",
      "16\n",
      "32\n"
     ]
    }
   ],
   "source": [
    "def powers_of_two(max_exponent):\n",
    "    exponent = 0 # start from 0\n",
    "    while exponent <= max_exponent:\n",
    "        yield 2 ** exponent # power of 2\n",
    "        exponent += 1\n",
    "\n",
    "for value in powers_of_two(5): # generate powers of 2 upto 2^5\n",
    "    print(value)"
   ]
  },
  {
   "cell_type": "markdown",
   "metadata": {},
   "source": [
    "<h4>7.  Implement a generator function that reads a file line by line and yields each line as a string</h4>"
   ]
  },
  {
   "cell_type": "code",
   "execution_count": null,
   "metadata": {},
   "outputs": [
    {
     "name": "stdout",
     "output_type": "stream",
     "text": [
      "This is a sample text file.\n",
      "We are using it to test generator function\n",
      "This function will read line by line\n",
      "it yields to output\n"
     ]
    }
   ],
   "source": [
    "def read_file_line_by_line(file_path):\n",
    "    with open(file_path, 'r') as file: # open the file in read mode\n",
    "        for line in file:\n",
    "            yield line.strip() # yeild the line without extra spaces\n",
    "\n",
    "file_path = r\"D:\\Vaidehi\\Data Analytics\\Python\\PythonBasics\\sample_txt_file.txt\"\n",
    "for line in read_file_line_by_line(file_path=file_path):\n",
    "   print(line)"
   ]
  },
  {
   "cell_type": "markdown",
   "metadata": {},
   "source": [
    "<h4>8.Use a lambda function in Python to sort a list of tuples based on the second element of each tuple </h4>"
   ]
  },
  {
   "cell_type": "code",
   "execution_count": 17,
   "metadata": {},
   "outputs": [
    {
     "name": "stdout",
     "output_type": "stream",
     "text": [
      "[('Vaidehi', 78), ('Dhiraj', 85), ('Krutika', 88), ('Omkar', 92)]\n"
     ]
    }
   ],
   "source": [
    "data = [(\"Dhiraj\", 85),(\"Vaidehi\", 78),(\"Omkar\", 92),(\"Krutika\", 88)] # name and number of biscuits for each name\n",
    "\n",
    "sorted_data = sorted(data, key=lambda x:x[1])\n",
    "print(sorted_data)"
   ]
  },
  {
   "cell_type": "markdown",
   "metadata": {},
   "source": [
    "<h4>9.Write a Python program that uses `map()` to convert a list of temperatures from Celsius to Fahrenheit.</h4> "
   ]
  },
  {
   "cell_type": "code",
   "execution_count": 18,
   "metadata": {},
   "outputs": [
    {
     "name": "stdout",
     "output_type": "stream",
     "text": [
      "[32.0, 50.0, 59.0, 68.0, 86.0, 113.0]\n"
     ]
    }
   ],
   "source": [
    "# list of celcius temp\n",
    "celcius_temp = [0,10,15,20,30,45]\n",
    "\n",
    "# use map() with lambda function to convert celcius to fahrenheit\n",
    "far_temp = list(map(lambda c: (c * 9/5) + 32, celcius_temp))\n",
    "\n",
    "print(far_temp)"
   ]
  },
  {
   "cell_type": "markdown",
   "metadata": {},
   "source": [
    "<h4>10.  Create a Python program that uses `filter()` to remove all the vowels from a given string</h4>"
   ]
  },
  {
   "cell_type": "code",
   "execution_count": 19,
   "metadata": {},
   "outputs": [
    {
     "name": "stdout",
     "output_type": "stream",
     "text": [
      "Original Text: Hello, this is python language. \n",
      "Removed Vowels: Hll, ths s pythn lngg.\n"
     ]
    }
   ],
   "source": [
    "# check if character is not vowel\n",
    "def is_not_vowel(char):\n",
    "    return char.lower() not in 'aeiou'\n",
    "\n",
    "# input string\n",
    "text = \"Hello, this is python language.\"\n",
    "\n",
    "filtered_text = \"\".join(filter(is_not_vowel, text))\n",
    "\n",
    "print(f\"Original Text: {text} \\nRemoved Vowels: {filtered_text}\")"
   ]
  },
  {
   "cell_type": "markdown",
   "metadata": {},
   "source": [
    "<h5>11. Write a Python program, which returns a list with 2-tuples. Each tuple consists of the order number and the \n",
    "product of the price per item and the quantity. The product should be increased by 10,- € if the value of the \n",
    "order is smaller than 100,00 €.\n",
    " Write a Python program using lambda and map</h5>"
   ]
  },
  {
   "cell_type": "code",
   "execution_count": 21,
   "metadata": {},
   "outputs": [
    {
     "name": "stdout",
     "output_type": "stream",
     "text": [
      "[(34587, 163.8), (98762, 284.0), (77226, 108.85000000000001), (88112, 84.97)]\n"
     ]
    }
   ],
   "source": [
    "# List of orders: [Order Number, Book Title and Author, Quantity, Price per Item]\n",
    "orders = [\n",
    "    [34587, \"Learning Python, Mark Lutz\", 4, 40.95],\n",
    "    [98762, \"Programming Python, Mark Lutz\", 5, 56.80],\n",
    "    [77226, \"Head First Python, Paul Barry\", 3, 32.95],\n",
    "    [88112, \"Einführung in Python3, Bernd Klein\", 3, 24.99]\n",
    "]\n",
    "\n",
    "# Lambda function to compute total price per order\n",
    "calculate_total = lambda order: (order[0], order[2] * order[3] + (10 if order[2] * order[3] < 100 else 0))\n",
    "\n",
    "# Apply the function to all orders using map\n",
    "order_totals = list(map(calculate_total, orders))\n",
    "\n",
    "# Print the result\n",
    "print(order_totals)\n"
   ]
  },
  {
   "cell_type": "code",
   "execution_count": null,
   "metadata": {},
   "outputs": [],
   "source": []
  }
 ],
 "metadata": {
  "kernelspec": {
   "display_name": "Python 3",
   "language": "python",
   "name": "python3"
  },
  "language_info": {
   "codemirror_mode": {
    "name": "ipython",
    "version": 3
   },
   "file_extension": ".py",
   "mimetype": "text/x-python",
   "name": "python",
   "nbconvert_exporter": "python",
   "pygments_lexer": "ipython3",
   "version": "3.13.1"
  }
 },
 "nbformat": 4,
 "nbformat_minor": 2
}
