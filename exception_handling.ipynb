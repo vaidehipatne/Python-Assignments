{
 "cells": [
  {
   "cell_type": "markdown",
   "metadata": {},
   "source": [
    "<h1>Practical Questions</h1>"
   ]
  },
  {
   "cell_type": "code",
   "execution_count": 1,
   "metadata": {},
   "outputs": [
    {
     "name": "stdout",
     "output_type": "stream",
     "text": [
      "Data written to file successfully.\n"
     ]
    }
   ],
   "source": [
    "# question 1\n",
    "# Open the file in write mode\n",
    "file = open(\"question_1.txt\", \"w\")\n",
    "\n",
    "# Write a string to the file\n",
    "file.write(\"Hello, this is a sample text!\")\n",
    "\n",
    "# Close the file\n",
    "file.close()\n",
    "\n",
    "print(\"Data written to file successfully.\")"
   ]
  },
  {
   "cell_type": "code",
   "execution_count": 2,
   "metadata": {},
   "outputs": [
    {
     "name": "stdout",
     "output_type": "stream",
     "text": [
      "Hello, this is a sample text!\n"
     ]
    }
   ],
   "source": [
    "# question 2\n",
    "\n",
    "# Open the file in read mode\n",
    "file = open(\"question_1.txt\", \"r\")\n",
    "\n",
    "# Read and print each line from the file\n",
    "for line in file:\n",
    "    print(line.strip())  # strip() removes extra newline characters\n",
    "\n",
    "# Close the file\n",
    "file.close()"
   ]
  },
  {
   "cell_type": "code",
   "execution_count": 3,
   "metadata": {},
   "outputs": [
    {
     "name": "stdout",
     "output_type": "stream",
     "text": [
      "Error: The file does not exist!\n"
     ]
    }
   ],
   "source": [
    "# question 3\n",
    "\n",
    "try:\n",
    "    # Try to open the file in read mode\n",
    "    with open(\"example.txt\", \"r\") as file:\n",
    "        for line in file:\n",
    "            print(line.strip())  # Print each line\n",
    "except FileNotFoundError:\n",
    "    print(\"Error: The file does not exist!\")"
   ]
  },
  {
   "cell_type": "code",
   "execution_count": 4,
   "metadata": {},
   "outputs": [
    {
     "name": "stdout",
     "output_type": "stream",
     "text": [
      "File copied successfully!\n"
     ]
    }
   ],
   "source": [
    "# question 4\n",
    "\n",
    "# Open source file in read mode and destination file in write mode\n",
    "with open(\"question_1.txt\", \"r\") as source_file, open(\"destination.txt\", \"w\") as dest_file:\n",
    "    for line in source_file:\n",
    "        dest_file.write(line)  # Write each line from source to destination\n",
    "\n",
    "print(\"File copied successfully!\")\n"
   ]
  },
  {
   "cell_type": "code",
   "execution_count": 5,
   "metadata": {},
   "outputs": [
    {
     "name": "stdout",
     "output_type": "stream",
     "text": [
      "Error: Cannot divide by zero!\n"
     ]
    }
   ],
   "source": [
    "# question 5\n",
    "\n",
    "try:\n",
    "    # Ask the user for two numbers\n",
    "    num1 = int(input(\"Enter the numerator: \"))\n",
    "    num2 = int(input(\"Enter the denominator: \"))\n",
    "\n",
    "    # Attempt division\n",
    "    result = num1 / num2\n",
    "    print(\"Result:\", result)\n",
    "\n",
    "except ZeroDivisionError:\n",
    "    print(\"Error: Cannot divide by zero!\")"
   ]
  },
  {
   "cell_type": "code",
   "execution_count": 7,
   "metadata": {},
   "outputs": [
    {
     "name": "stdout",
     "output_type": "stream",
     "text": [
      "Error: Division by zero occurred!\n"
     ]
    }
   ],
   "source": [
    "# question 6\n",
    "\n",
    "import logging\n",
    "\n",
    "# Configure logging (log errors to \"error.log\" file)\n",
    "logging.basicConfig(filename=\"error.log\", level=logging.ERROR, \n",
    "                    format=\"%(asctime)s - %(levelname)s - %(message)s\")\n",
    "\n",
    "try:\n",
    "    # User input\n",
    "    num1 = int(input(\"Enter the numerator: \"))\n",
    "    num2 = int(input(\"Enter the denominator: \"))\n",
    "\n",
    "    # Perform division\n",
    "    result = num1 / num2\n",
    "    print(\"Result:\", result)\n",
    "\n",
    "except ZeroDivisionError:\n",
    "    error_message = \"Error: Division by zero occurred!\"\n",
    "    print(error_message)\n",
    "    logging.error(error_message)  # Log the error to \"error.log\""
   ]
  },
  {
   "cell_type": "code",
   "execution_count": 13,
   "metadata": {},
   "outputs": [
    {
     "name": "stdout",
     "output_type": "stream",
     "text": [
      "Log messages have been written to app.log\n"
     ]
    }
   ],
   "source": [
    "# question 7\n",
    "\n",
    "import logging\n",
    "\n",
    "# Configure logging: Log messages to \"app.log\" with level and timestamp\n",
    "logging.basicConfig(filename=\"error.log\", level=logging.DEBUG, \n",
    "                    format=\"%(asctime)s - %(levelname)s - %(message)s\")\n",
    "\n",
    "# Example logs at different levels\n",
    "logging.debug(\"This is a debug message (useful for troubleshooting).\")\n",
    "logging.info(\"This is an info message (general information).\")\n",
    "logging.warning(\"This is a warning message (potential issue).\")\n",
    "logging.error(\"This is an error message (something went wrong).\")\n",
    "logging.critical(\"This is a critical message (severe issue).\")\n",
    "\n",
    "print(\"Log messages have been written to app.log\")"
   ]
  },
  {
   "cell_type": "code",
   "execution_count": 15,
   "metadata": {},
   "outputs": [
    {
     "name": "stdout",
     "output_type": "stream",
     "text": [
      "Error: The file does not exist. Please check the file name and try again.\n"
     ]
    }
   ],
   "source": [
    "# question 8\n",
    "\n",
    "try:\n",
    "    # Attempt to open a non-existent file in read mode\n",
    "    with open(\"random_file.txt\", \"r\") as file:\n",
    "        content = file.read()\n",
    "        print(content)  # Print file content if successfully opened\n",
    "\n",
    "except FileNotFoundError:\n",
    "    print(\"Error: The file does not exist. Please check the file name and try again.\")"
   ]
  },
  {
   "cell_type": "code",
   "execution_count": 16,
   "metadata": {},
   "outputs": [
    {
     "name": "stdout",
     "output_type": "stream",
     "text": [
      "['Hello, this is a sample text!']\n",
      "<class 'list'>\n"
     ]
    }
   ],
   "source": [
    "# question 9\n",
    "\n",
    "# Open the file in read mode\n",
    "with open(\"question_1.txt\", \"r\") as file:\n",
    "    lines = file.readlines()  # Read all lines and store in a list\n",
    "\n",
    "# Print the list\n",
    "print(lines)\n",
    "print(type(lines))"
   ]
  },
  {
   "cell_type": "code",
   "execution_count": 17,
   "metadata": {},
   "outputs": [
    {
     "name": "stdout",
     "output_type": "stream",
     "text": [
      "Data appended successfully!\n"
     ]
    }
   ],
   "source": [
    "# question 10\n",
    "\n",
    "# Open the file in append mode\n",
    "with open(\"question_1.txt\", \"a\") as file:\n",
    "    file.write(\"\\nThis is a new line appended to the file.\")\n",
    "\n",
    "print(\"Data appended successfully!\")\n"
   ]
  },
  {
   "cell_type": "code",
   "execution_count": 18,
   "metadata": {},
   "outputs": [
    {
     "name": "stdout",
     "output_type": "stream",
     "text": [
      "Error: The student's name is not found in the dictionary.\n"
     ]
    }
   ],
   "source": [
    "# question 11\n",
    "\n",
    "# Sample dictionary\n",
    "student_scores = {\n",
    "    \"Alice\": 85,\n",
    "    \"Bob\": 92,\n",
    "    \"Charlie\": 78\n",
    "}\n",
    "\n",
    "try:\n",
    "    # Attempting to access a key that might not exist\n",
    "    name = input(\"Enter the student's name: \")  # User inputs a name\n",
    "    score = student_scores[name]  # Try to get the score\n",
    "    print(f\"{name}'s score is: {score}\")\n",
    "\n",
    "except KeyError:\n",
    "    print(\"Error: The student's name is not found in the dictionary.\")"
   ]
  },
  {
   "cell_type": "code",
   "execution_count": 20,
   "metadata": {},
   "outputs": [
    {
     "name": "stdout",
     "output_type": "stream",
     "text": [
      "Result of division: 2.4\n",
      "Error: The entered name is not in the dictionary.\n"
     ]
    }
   ],
   "source": [
    "# question 12\n",
    "\n",
    "try:\n",
    "    # Taking input from user\n",
    "    num1 = int(input(\"Enter a number: \"))  # Might raise ValueError\n",
    "    num2 = int(input(\"Enter another number: \"))\n",
    "\n",
    "    # Performing division (might raise ZeroDivisionError)\n",
    "    result = num1 / num2\n",
    "    print(f\"Result of division: {result}\")\n",
    "\n",
    "    # Accessing a dictionary key (might raise KeyError)\n",
    "    sample_dict = {\"Alice\": 25, \"Bob\": 30}\n",
    "    name = input(\"Enter a name: \")\n",
    "    age = sample_dict[name]  # Try to access the key\n",
    "\n",
    "    print(f\"{name} is {age} years old.\")\n",
    "\n",
    "except ValueError:\n",
    "    print(\"Error: Invalid input! Please enter a valid number.\")\n",
    "except ZeroDivisionError:\n",
    "    print(\"Error: Division by zero is not allowed.\")\n",
    "except KeyError:\n",
    "    print(\"Error: The entered name is not in the dictionary.\")\n",
    "except Exception as e:  # Catch any other unexpected errors\n",
    "    print(f\"An unexpected error occurred: {e}\")"
   ]
  },
  {
   "cell_type": "code",
   "execution_count": 21,
   "metadata": {},
   "outputs": [
    {
     "name": "stdout",
     "output_type": "stream",
     "text": [
      "Error: The file does not exist!\n"
     ]
    }
   ],
   "source": [
    "# question 13\n",
    "\n",
    "import os\n",
    "\n",
    "filename = \"example.txt\"\n",
    "\n",
    "if os.path.exists(filename):  # Check if file exists\n",
    "    with open(filename, \"r\") as file:\n",
    "        content = file.read()\n",
    "        print(content)\n",
    "else:\n",
    "    print(\"Error: The file does not exist!\")"
   ]
  },
  {
   "cell_type": "code",
   "execution_count": 23,
   "metadata": {},
   "outputs": [
    {
     "name": "stdout",
     "output_type": "stream",
     "text": [
      "Logging complete. Check 'error.log' for details.\n"
     ]
    }
   ],
   "source": [
    "# question 14\n",
    "\n",
    "import logging\n",
    "\n",
    "# Configure logging to write logs to a file\n",
    "logging.basicConfig(\n",
    "    filename=\"error.log\",  # Log file name\n",
    "    level=logging.DEBUG,  # Log all messages from DEBUG level and above\n",
    "    format=\"%(asctime)s - %(levelname)s - %(message)s\"  # Log format\n",
    ")\n",
    "\n",
    "def divide_numbers(a, b):\n",
    "    \"\"\"Function to perform division and log messages.\"\"\"\n",
    "    logging.info(f\"Attempting to divide {a} by {b}\")  # INFO log\n",
    "\n",
    "    try:\n",
    "        result = a / b\n",
    "        logging.info(f\"Division successful: {a} / {b} = {result}\")  # INFO log\n",
    "        return result\n",
    "    except ZeroDivisionError:\n",
    "        logging.error(\"Error: Division by zero attempted!\")  # ERROR log\n",
    "        return None\n",
    "\n",
    "# Example Usage\n",
    "divide_numbers(10, 2)  # Successful division\n",
    "divide_numbers(5, 0)   # Error: Division by zero\n",
    "\n",
    "print(\"Logging complete. Check 'error.log' for details.\")"
   ]
  },
  {
   "cell_type": "code",
   "execution_count": 24,
   "metadata": {},
   "outputs": [
    {
     "name": "stdout",
     "output_type": "stream",
     "text": [
      "File Content:\n",
      "Hello, this is a sample text!\n",
      "This is a new line appended to the file.\n"
     ]
    }
   ],
   "source": [
    "# question 15\n",
    "\n",
    "import os\n",
    "\n",
    "def read_file(filename):\n",
    "    \"\"\"Function to read and print file content, handling empty files.\"\"\"\n",
    "    if not os.path.exists(filename):  # Check if file exists\n",
    "        print(\"Error: The file does not exist!\")\n",
    "        return\n",
    "    \n",
    "    with open(filename, \"r\") as file:\n",
    "        content = file.read()  # Read file content\n",
    "        \n",
    "        if not content:  # Check if file is empty\n",
    "            print(\"The file is empty.\")\n",
    "        else:\n",
    "            print(\"File Content:\")\n",
    "            print(content)\n",
    "\n",
    "# Example Usage\n",
    "filename = \"question_1.txt\"  # Change this to the file you want to read\n",
    "read_file(filename)"
   ]
  },
  {
   "cell_type": "code",
   "execution_count": 27,
   "metadata": {},
   "outputs": [
    {
     "name": "stdout",
     "output_type": "stream",
     "text": [
      "Memory used: 2.05078125 MiB\n"
     ]
    }
   ],
   "source": [
    "# question 16\n",
    "\n",
    "from memory_profiler import memory_usage\n",
    "\n",
    "def example_function():\n",
    "    usage_before = memory_usage()[0]  # Get memory usage before\n",
    "    numbers = [i ** 2 for i in range(100000)]  # Create a list\n",
    "    usage_after = memory_usage()[0]  # Get memory usage after\n",
    "    print(f\"Memory used: {usage_after - usage_before} MiB\")\n",
    "\n",
    "example_function()"
   ]
  },
  {
   "cell_type": "code",
   "execution_count": 30,
   "metadata": {},
   "outputs": [
    {
     "name": "stdout",
     "output_type": "stream",
     "text": [
      "Numbers written to numbers.txt\n"
     ]
    }
   ],
   "source": [
    "# question 17\n",
    "\n",
    "def write_numbers_to_file(filename, numbers):\n",
    "    \"\"\"Writes a list of numbers to a file, one number per line.\"\"\"\n",
    "    with open(filename, \"w\") as file:  # Open file in write mode\n",
    "        for number in numbers:\n",
    "            file.write(f\"{number}\\n\")  # Write each number on a new line\n",
    "    print(f\"Numbers written to {filename}\")\n",
    "\n",
    "# Example Usage\n",
    "numbers_list = [10, 20, 30, 40, 50]  # List of numbers\n",
    "write_numbers_to_file(\"numbers.txt\", numbers_list)"
   ]
  },
  {
   "cell_type": "code",
   "execution_count": 32,
   "metadata": {},
   "outputs": [],
   "source": [
    "# question 18\n",
    "\n",
    "import logging\n",
    "from logging.handlers import RotatingFileHandler\n",
    "\n",
    "# Configure logging with rotation\n",
    "log_file = \"app.log\"\n",
    "logging.basicConfig(\n",
    "    level=logging.INFO,\n",
    "    format=\"%(asctime)s - %(levelname)s - %(message)s\",\n",
    "    handlers=[\n",
    "        RotatingFileHandler(log_file, maxBytes=1_000_000, backupCount=3)  # 1MB limit, keep 3 backups\n",
    "    ]\n",
    ")\n",
    "\n",
    "# Create a logger\n",
    "logger = logging.getLogger()\n",
    "\n",
    "# Example log messages\n",
    "for i in range(1000000):  # Generate multiple log entries\n",
    "    logger.info(f\"Log entry {i}\")"
   ]
  },
  {
   "cell_type": "code",
   "execution_count": 35,
   "metadata": {},
   "outputs": [
    {
     "name": "stdout",
     "output_type": "stream",
     "text": [
      "Error: Index out of range!\n"
     ]
    }
   ],
   "source": [
    "# question 19\n",
    "\n",
    "def handle_exceptions():\n",
    "    try:\n",
    "        # List example (IndexError)\n",
    "        numbers = [10, 20, 30]\n",
    "        print(\"Accessing index 5:\", numbers[5])  # Index out of range\n",
    "\n",
    "        # Dictionary example (KeyError)\n",
    "        data = {\"name\": \"Alice\", \"age\": 25}\n",
    "        print(\"Accessing 'city':\", data[\"city\"])  # Key does not exist\n",
    "\n",
    "    except IndexError:\n",
    "        print(\"Error: Index out of range!\")\n",
    "    \n",
    "    except KeyError:\n",
    "        print(\"Error: Key not found in dictionary!\")\n",
    "\n",
    "# Run the function\n",
    "handle_exceptions()"
   ]
  },
  {
   "cell_type": "code",
   "execution_count": 36,
   "metadata": {},
   "outputs": [
    {
     "name": "stdout",
     "output_type": "stream",
     "text": [
      "File Content:\n",
      " Hello, this is a sample text!\n",
      "This is a new line appended to the file.\n"
     ]
    }
   ],
   "source": [
    "# question 20\n",
    "\n",
    "def read_file(filename):\n",
    "    \"\"\"Reads and prints the contents of a file using a context manager.\"\"\"\n",
    "    try:\n",
    "        with open(filename, \"r\") as file:  # Open file in read mode\n",
    "            content = file.read()  # Read entire file content\n",
    "            print(\"File Content:\\n\", content)\n",
    "    except FileNotFoundError:\n",
    "        print(\"Error: The file does not exist!\")\n",
    "\n",
    "# Example Usage\n",
    "read_file(\"question_1.txt\")  # Change filename as needed"
   ]
  },
  {
   "cell_type": "code",
   "execution_count": 37,
   "metadata": {},
   "outputs": [
    {
     "name": "stdout",
     "output_type": "stream",
     "text": [
      "The word 'line' appears 1 times in question_1.txt.\n"
     ]
    }
   ],
   "source": [
    "# question 21\n",
    "\n",
    "def count_word_occurrences(filename, target_word):\n",
    "    \"\"\"Counts and prints the number of times a specific word appears in a file.\"\"\"\n",
    "    try:\n",
    "        with open(filename, \"r\") as file:\n",
    "            content = file.read().lower()  # Read and convert text to lowercase\n",
    "            words = content.split()  # Split content into words\n",
    "            count = words.count(target_word.lower())  # Count occurrences (case insensitive)\n",
    "            print(f\"The word '{target_word}' appears {count} times in {filename}.\")\n",
    "    except FileNotFoundError:\n",
    "        print(\"Error: The file does not exist!\")\n",
    "\n",
    "# Example Usage\n",
    "count_word_occurrences(\"question_1.txt\", \"line\")  # Change word and filename as needed"
   ]
  },
  {
   "cell_type": "code",
   "execution_count": 39,
   "metadata": {},
   "outputs": [
    {
     "name": "stdout",
     "output_type": "stream",
     "text": [
      "The file is not empty.\n"
     ]
    }
   ],
   "source": [
    "# question 22\n",
    "\n",
    "import os\n",
    "\n",
    "def is_file_empty(filename):\n",
    "    \"\"\"Checks if a file is empty before reading.\"\"\"\n",
    "    if os.path.exists(filename):  # Ensure the file exists\n",
    "        return os.path.getsize(filename) == 0  # Check file size\n",
    "    else:\n",
    "        print(\"Error: The file does not exist!\")\n",
    "        return True  # Treat non-existing files as empty\n",
    "\n",
    "# Example Usage\n",
    "filename = \"question_1.txt\"\n",
    "if is_file_empty(filename):\n",
    "    print(\"The file is empty.\")\n",
    "else:\n",
    "    print(\"The file is not empty.\")"
   ]
  },
  {
   "cell_type": "code",
   "execution_count": 40,
   "metadata": {},
   "outputs": [
    {
     "name": "stdout",
     "output_type": "stream",
     "text": [
      "Error: The file does not exist!\n"
     ]
    }
   ],
   "source": [
    "# question 23\n",
    "\n",
    "import logging\n",
    "\n",
    "# Configure logging to write errors to a log file\n",
    "logging.basicConfig(\n",
    "    filename=\"file_errors.log\",  # Log file name\n",
    "    level=logging.ERROR,  # Log only errors and above\n",
    "    format=\"%(asctime)s - %(levelname)s - %(message)s\"\n",
    ")\n",
    "\n",
    "def read_file(filename):\n",
    "    \"\"\"Attempts to read a file and logs errors if it fails.\"\"\"\n",
    "    try:\n",
    "        with open(filename, \"r\") as file:\n",
    "            content = file.read()\n",
    "            print(\"File Content:\\n\", content)\n",
    "    except FileNotFoundError:\n",
    "        logging.error(f\"File '{filename}' not found!\")\n",
    "        print(\"Error: The file does not exist!\")\n",
    "    except PermissionError:\n",
    "        logging.error(f\"Permission denied while accessing '{filename}'!\")\n",
    "        print(\"Error: You do not have permission to access this file.\")\n",
    "    except Exception as e:\n",
    "        logging.error(f\"An unexpected error occurred: {e}\")\n",
    "        print(\"An unexpected error occurred.\")\n",
    "\n",
    "# Example Usage\n",
    "read_file(\"non_existent_file.txt\")  # File does not exist (triggers error)"
   ]
  },
  {
   "cell_type": "markdown",
   "metadata": {},
   "source": [
    "<h1>Theory Questions</h1>"
   ]
  },
  {
   "cell_type": "markdown",
   "metadata": {},
   "source": [
    "**Question 1**:<br>\n",
    "| Feature | Interpreted Language | Compiled Language |\n",
    "|:--------:|:--------:|:--------:|\n",
    "|Execution\t|Code is executed line by line by an interpreter.\t|Code is translated (compiled) into machine code before execution.|\n",
    "|Speed\t|Slower (because each line is processed at runtime).\t|Faster (since machine code is pre-generated).|\n",
    "|Error |Detection\tErrors are detected at runtime.\t|Errors are detected during compilation.|\n",
    "|Portability\t|More portable (does not depend on machine architecture).\t|Less portable (compiled code is specific to the platform).|\n",
    "|Examples\t|Python, JavaScript, PHP, Ruby\t|C, C++, Rust, Go"
   ]
  },
  {
   "cell_type": "markdown",
   "metadata": {},
   "source": [
    "**Question 2:**<br>\n",
    "Exception handling in Python is a way to gracefully handle errors that occur during program execution. Instead of crashing, Python allows us to catch and handle errors using try-except blocks.<br>\n",
    "Why Use Exception Handling?<br>\n",
    "Prevents program crashes when an error occurs.<br>\n",
    "Provides a way to handle errors and recover from them.<br>\n",
    "Improves user experience by displaying meaningful error messages.<br>\n",
    "\n"
   ]
  },
  {
   "cell_type": "markdown",
   "metadata": {},
   "source": [
    "**Question 3:**<br>\n",
    "Purpose of the finally Block in Exception Handling<br>\n",
    "The finally block in Python is used to execute code regardless of whether an exception occurs or not. It is typically used for cleanup actions such as closing files, releasing resources, or disconnecting from a database.<br>\n",
    "Key Features of finally Block<br>\n",
    "✅ Always executes after try and except, even if an error occurs.<br>\n",
    "✅ Used for cleanup operations (e.g., closing files, releasing memory).<br>\n",
    "✅ Ensures that resources don't remain open or locked.<br>"
   ]
  },
  {
   "cell_type": "markdown",
   "metadata": {},
   "source": [
    "**Question 4:**<br>\n",
    "Logging in Python is a way to track events that happen during program execution. It helps developers debug, monitor, and record important information about how a program runs.<br>\n",
    "\n",
    "Instead of using print(), logging is a more flexible and efficient way to handle messages.<br>\n",
    "Why Use Logging?<br>\n",
    "✅ Helps in debugging by tracking errors and events.<br>\n",
    "✅ Can record messages in a file for later analysis.<br>\n",
    "✅ Supports different log levels (INFO, WARNING, ERROR, etc.).<br>\n",
    "✅ Works well in large applications where print() is inefficient.<br>\n",
    "\n"
   ]
  },
  {
   "cell_type": "markdown",
   "metadata": {},
   "source": [
    "**Question 5:**<br>\n",
    "The __del__ method, also called the destructor, is a special method in Python that gets called automatically when an object is about to be destroyed (i.e., when it is no longer referenced).<br>\n",
    "Why is __del__ Important?<br>\n",
    "✅ Used for cleanup actions before an object is deleted.<br>\n",
    "✅ Helps in freeing resources like closing files or network connections.<br>\n",
    "✅ Called automatically by Python's garbage collector when an object is no longer in use.<br>\n",
    "\n",
    "\n",
    "\n"
   ]
  },
  {
   "cell_type": "markdown",
   "metadata": {},
   "source": [
    "**Question 6:**<br>\n",
    "In Python, we use import statements to bring in external modules or functions. There are two main ways to import:<br>\n",
    "Advantage: Avoids name conflicts because functions are accessed with module_name.function().<br>\n",
    "Disadvantage: Every time you use a function, you must type module_name. before it.<br>\n",
    "**Using from ... import (Imports Specific Functions or Variables)**<br>\n",
    "from math import sqrt<br>\n",
    "\n",
    "Directly using the imported function<br>\n",
    "result = sqrt(25)  <br>\n",
    "print(result)  # Output: 5.0<br>\n",
    " **Using from ... import * (Imports Everything from a Module)**<br>\n",
    " from math import *<br>\n",
    "\n",
    "print(sqrt(25))  # Works without needing math.sqrt()<br>\n",
    "print(factorial(5))  # Also accessible<br>\n",
    "\n",
    "| Method | Example | Pros | Cons |\n",
    "|:--------:|:--------:|:--------:|:--------:|\n",
    "|import module\t|import math\t|Avoids name conflicts\t|Must use module_name.function() every time|\n",
    "|from module import function\t|from math import sqrt|\tNo need for module_name. |prefix\tMay cause name conflicts|\n",
    "|from module import *\t|from math import *\t|Imports everything\t|Risky due to possible function name conflicts|"
   ]
  },
  {
   "cell_type": "markdown",
   "metadata": {},
   "source": [
    "**Question 6:**<br>\n",
    "In Python, you can handle multiple exceptions in various ways using the try-except block. This ensures your program doesn't crash and provides specific error-handling mechanisms.<br>\n",
    "Using Multiple except Blocks<br>\n",
    "You can catch different types of exceptions separately.<br>\n",
    "try:<br>\n",
    "    num = int(input(\"Enter a number: \"))  <br>\n",
    "    result = 10 / num  <br>\n",
    "    my_list = [1, 2, 3]  <br>\n",
    "    print(my_list[5])  # IndexError<br>\n",
    "except ValueError:<br>\n",
    "    print(\"Error: Please enter a valid number!\")<br>\n",
    "except ZeroDivisionError:<br>\n",
    "    print(\"Error: Division by zero is not allowed!\")<br>\n",
    "except IndexError:<br>\n",
    "    print(\"Error: List index is out of range!\")<br>"
   ]
  },
  {
   "cell_type": "markdown",
   "metadata": {},
   "source": [
    "**Question 7:**<br>\n",
    "Purpose of the with Statement in File Handling<br>\n",
    "The with statement in Python is used to handle files efficiently by automatically managing resources. It ensures that a file is properly closed after its operations are completed, even if an exception occurs.<br>\n",
    "Why Use with Instead of open()?<br>\n",
    "Automatically closes the file (no need to call file.close()).<br>\n",
    "Prevents resource leaks (file stays open only within the block).<br>\n",
    "Handles exceptions safely without crashing the program.<br>\n",
    "with open(\"example.txt\", \"r\") as file:<br>\n",
    "    content = file.read()<br>\n",
    "    print(content)  # Reads and prints file content<br>"
   ]
  },
  {
   "cell_type": "markdown",
   "metadata": {},
   "source": [
    "**Question 8:**<br>\n",
    "The with statement in Python is used for efficient file handling by ensuring that files are properly closed after use. It simplifies resource management and reduces the risk of resource leaks or leaving files open accidentally.<br>\n",
    "Why Use with Instead of open()?<br>\n",
    "Automatically closes the file after exiting the block.<br>\n",
    "Prevents resource leaks, ensuring better memory management.<br>\n",
    "Handles exceptions safely without crashing the program.<br>\n",
    "Makes the code cleaner and more readable.<br>\n",
    "**Example: Reading a File Using with**<br>\n",
    "with open(\"example.txt\", \"r\") as file:<br>\n",
    "    content = file.read()<br>\n",
    "    print(content)<br>"
   ]
  },
  {
   "cell_type": "markdown",
   "metadata": {},
   "source": [
    "**Question 9:**<br>\n",
    "| Feature | Multithreading | Multiprocessing |\n",
    "|:--------:|:--------:|:--------:|\n",
    "|Definition|\tRunning multiple threads within a single process\t|Running multiple processes, each with its own memory space|\n",
    "|Uses|\tBest for I/O-bound tasks (e.g., file handling, network requests)\t|Best for CPU-bound tasks (e.g., complex calculations, data processing)|\n",
    "|Memory Usage|\tThreads share the same memory space|\tEach process has separate memory|\n",
    "|Speed Boost|\tFaster when tasks involve waiting (I/O-bound tasks)|\tFaster for CPU-heavy tasks because they use multiple CPU cores|\n",
    "|Global Interpreter Lock (GIL) Effect|\tAffected by Python’s GIL, meaning only one thread runs Python code at a time|\tNot affected by GIL, true parallel execution|\n",
    "Implementation\t|Uses Python’s threading module|\tUses Python’s multiprocessing module"
   ]
  },
  {
   "cell_type": "markdown",
   "metadata": {},
   "source": [
    "**Question 10:**<br>\n",
    "Logging is a powerful debugging and monitoring tool in Python. Instead of using print(), logging provides a structured way to track events, errors, and system behavior.<br>\n",
    "**Helps in Debugging and Troubleshooting**<br>\n",
    "Logs store useful information about errors and execution flow, making it easier to diagnose issues.<br>\n",
    "import logging<br>\n",
    "\n",
    "logging.basicConfig(level=logging.DEBUG)  # Set logging level<br>\n",
    "logging.debug(\"Debugging information\")  # Logs debug info<br>\n",
    "**Allows Different Levels of Logging**<br>\n",
    "Unlike print(), logging provides different severity levels to control output:<br><br>\n",
    "import logging<br>\n",
    "\n",
    "logging.basicConfig(level=logging.DEBUG)<br>\n",
    "\n",
    "logging.debug(\"This is a debug message\")<br>\n",
    "logging.info(\"This is an info message\")<br>\n",
    "logging.warning(\"This is a warning message\")<br>\n",
    "logging.error(\"This is an error message\")<br>\n",
    "logging.critical(\"This is a critical message\")<br>\n",
    "\n",
    "**Logs Can Be Saved to a File**<br>\n",
    "import logging<br>\n",
    "\n",
    "logging.basicConfig(filename=\"app.log\", level=logging.INFO)<br>\n",
    "logging.info(\"This message is logged to a file\")<br>\n"
   ]
  },
  {
   "cell_type": "markdown",
   "metadata": {},
   "source": [
    "**Question 11:**<br><br>\n",
    "Memory management in Python is the process of handling the allocation and deallocation of memory for Python objects automatically. Python uses a private heap space, where all objects and data structures are stored, and a built-in garbage collector to free up unused memory.<br>\n",
    "Python memory is divided into:<br>\n",
    "**Python Memory Allocation**<br>\n",
    " Stack Memory: Stores function calls, local variables.<br>\n",
    " Heap Memory: Stores objects, lists, dictionaries, and dynamically allocated data.<br>\n",
    " **Automatic Garbage Collection (GC)**<br>\n",
    " Python has a garbage collector that automatically removes unused objects to free memory.<br>\n",
    " **Reference Counting**<br>\n",
    " Each object in Python has a reference count that tracks how many variables refer to it. When the count reaches zero, Python deletes the object.<br>\n",
    " **Memory Optimization Techniques**<br>\n",
    " Use Generators Instead of Lists (saves memory)<br>\n",
    " def numbers():<br>\n",
    "    for i in range(10):<br>\n",
    "        yield i  # Uses less memory than lists<br>\n",
    "\n",
    "gen = numbers()  # Generator object<br>\n",
    "\n",
    "Use del to Remove Unused Variables<br>\n",
    "x = [1, 2, 3]<br>\n",
    "del x  # Deletes x, freeing memory<br>"
   ]
  },
  {
   "cell_type": "markdown",
   "metadata": {},
   "source": [
    "**Question 12:**<br>\n",
    "Steps in Exception Handling<br>\n",
    "Python provides a structured way to handle exceptions using try-except-finally blocks.<br>\n",
    "\n",
    "Step 1: Use try Block to Detect Errors<br>\n",
    "The try block contains the code that might cause an error.<br>\n",
    "\n",
    "Step 2: Use except Block to Handle Errors<br>\n",
    "The except block catches and handles specific exceptions if they occur.<br>\n",
    "\n",
    "Step 3: Use finally Block (Optional) for Cleanup<br>\n",
    "The finally block runs regardless of whether an exception occurs or not. It's used for cleanup operations like closing files or releasing resources.<br>\n",
    "\n"
   ]
  },
  {
   "cell_type": "markdown",
   "metadata": {},
   "source": [
    "**Question 13:**<br>\n",
    "Memory management is crucial in Python because it ensures efficient use of system resources, prevents memory leaks, and improves program performance. Python automatically manages memory using garbage collection and reference counting, but developers still need to write memory-efficient code.<br>\n",
    "**Importance of Memory Management in Python**<br>\n",
    "Prevents Memory Leaks<br>\n",
    "Memory leaks occur when memory is allocated but never freed.<br>\n",
    "Python’s garbage collector removes unused objects, preventing leaks.<br>\n",
    "**Improves Performance and Efficiency**<br>\n",
    "Optimized memory usage allows programs to run faster.<br>\n",
    "Large datasets should use generators instead of lists to save memory.<br>\n",
    "**Helps Manage Large Data Structures**<br>\n",
    "Python objects consume more memory due to additional metadata.<br>\n",
    "Use __slots__ to reduce memory footprint in classes<br>\n"
   ]
  },
  {
   "cell_type": "markdown",
   "metadata": {},
   "source": [
    "**Question 14:**<br>\n",
    "Role of try and except in Exception Handling in Python<br>\n",
    "Exception handling in Python ensures that programs can handle runtime errors gracefully instead of crashing. The try and except blocks are the core components of exception handling.<br>\n",
    "**Role of try Block**<br>\n",
    "The try block contains code that might raise an exception.<br>\n",
    "If an error occurs inside the try block, the program immediately jumps to the except block.<br>\n",
    "**Role of except Block**<br>\n",
    "The except block handles the error raised in the try block.<br>\n",
    "It prevents the program from crashing and allows recovery from the error.<br>\n",
    " **Handling Multiple Exceptions**<br>\n",
    " You can handle multiple types of errors using multiple except blocks.<br>\n",
    " \n"
   ]
  },
  {
   "cell_type": "markdown",
   "metadata": {},
   "source": [
    "**Question 15:**<br>\n",
    " Python automatically manages memory using garbage collection (GC) to free up memory by removing unused objects. It primarily relies on reference counting and a cyclic garbage collector to clean up memory.<br>\n",
    " **Components of Python's Garbage Collection**<br>\n",
    " Reference Counting (Primary Memory Management)<br>\n",
    "Every object in Python has a reference count (how many variables reference it).<br>\n",
    "When the reference count reaches zero, Python automatically deletes the object.<br>\n",
    "**Cyclic Garbage Collector (Handles Circular References)**<br>\n",
    "Reference counting fails when objects reference each other (circular references). Python uses a garbage collector to detect and clean such objects.<br>\n",
    "**How Python’s Garbage Collector Works**<br>\n",
    "Python’s gc module automatically detects and collects unreachable objects:<br>\n",
    "Runs periodically in the background.<br>\n",
    "Divides objects into three generations (young, middle-aged, old).<br>\n",
    "Newer objects are collected more frequently (to optimize performance).<br>\n",
    "\n"
   ]
  },
  {
   "cell_type": "markdown",
   "metadata": {},
   "source": [
    "**Question 16:**<br>\n",
    "**Purpose of the else Block in Exception Handling**<br>\n",
    "In Python, the else block in exception handling allows you to run code only if no exceptions occur in the try block. This helps separate error-prone code from normal execution logic, improving code readability and structure.<br>\n",
    " How else Works in Try-Except<br>\n",
    "The try block contains code that might cause an exception.<br>\n",
    "The except block runs if an exception occurs.<br>\n",
    "The else block runs only if no exception occurs.<br>\n",
    "The finally block (if used) runs no matter what (optional).<br>\n"
   ]
  },
  {
   "cell_type": "markdown",
   "metadata": {},
   "source": [
    "**Question 17:**<br>\n",
    "Python’s logging module provides different logging levels to categorize messages based on severity. These levels help in debugging, tracking errors, and monitoring application behavior.<br>\n",
    "|Level\t|Numeric Value\t|Purpose|\n",
    "|:--------:|:--------:|:--------:|\n",
    "|DEBUG\t|10|Detailed information for debugging.|\n",
    "|INFO\t|20\t|General information about program execution.|\n",
    "|WARNING|30\t|Indicates something unexpected but not an error.|\n",
    "|ERROR\t|40\t|A serious problem that caused a function to fail.|\n",
    "|CRITICAL|50|A very severe issue that may cause the program to stop.|"
   ]
  },
  {
   "cell_type": "markdown",
   "metadata": {},
   "source": [
    "**Question 18:**<br>\n",
    "Both os.fork() and the multiprocessing module are used for creating child processes in Python, but they work in different ways and have distinct use cases.<br>\n",
    "os.fork(): Low-Level Process Creation<br>\n",
    "os.fork() is a low-level function used to create a child process by duplicating the current process.<br>\n",
    "Works only on Unix-based systems (Linux, macOS).<br>\n",
    "The child process gets an exact copy of the parent’s memory.<br>\n",
    "The function returns 0 in the child process and returns the child's PID in the parent process.<br>\n"
   ]
  },
  {
   "cell_type": "markdown",
   "metadata": {},
   "source": [
    "**Question 19:**<br>\n",
    "When working with files in Python, closing the file after use is crucial. This ensures that resources are properly released and prevents data loss or corruption.<br>\n",
    "\n",
    "Releases System Resources<br>\n",
    "Each open file uses memory and system resources. Closing it frees up these resources.<br>\n",
    "\n",
    "Ensures Data is Written Properly<br>\n",
    "If a file is opened in write mode, closing ensures that all buffered data is saved to the file.<br>\n",
    "\n",
    "Prevents Data Corruption<br>\n",
    "If a program crashes before a file is closed, the data may be lost or incomplete.<br>\n",
    "\n",
    "Avoids \"Too Many Open Files\" Error<br>\n",
    "If too many files remain open, the system may run out of file descriptors, causing an error.<br>\n",
    "\n",
    "Ensures Other Programs Can Access the File<br>\n",
    "Some operating systems lock open files, preventing other programs from modifying them. Closing removes the lock.<br>"
   ]
  },
  {
   "cell_type": "markdown",
   "metadata": {},
   "source": [
    "**Question 20:**<br>\n",
    "Difference Between file.read() and file.readline() in Python<br>\n",
    "Both file.read() and file.readline() are used to read data from a file, but they behave differently.<br>\n",
    "file.read() – Reads the Entire File or a Specific Number of Characters<br>\n",
    "Reads the entire file into a single string (if no argument is provided).<br>\n",
    "If given a number, it reads only that many characters.<br>\n",
    "file.readline() – Reads One Line at a Time<br>\n",
    "Reads only one line from the file at a time.<br>\n",
    "Returns a string containing that line, including the newline character (\\n).<br>\n",
    "Calling file.readline() multiple times reads subsequent lines.<br>\n",
    "When to Use Which?<br>\n",
    "Use file.read() when:<br>\n",
    "\n",
    "You need to process the entire file at once.<br>\n",
    "The file is small and can fit in memory.<br>\n",
    "Use file.readline() when:<br>\n",
    "\n",
    "You want to process a file line-by-line.<br>\n",
    "The file is large, and reading it all at once is inefficient.<br>"
   ]
  },
  {
   "cell_type": "markdown",
   "metadata": {},
   "source": [
    "**Question 21:**<br>\n",
    "The logging module in Python is used for tracking events, debugging, and monitoring programs. It helps developers log messages at different severity levels and store them in files or display them in the console.<br>\n",
    "Tracks program execution – Helps debug and monitor program flow.<br>\n",
    "Stores logs for future reference – Saves logs to files for analysis.<br>\n",
    "Handles different severity levels – Allows filtering of messages by importance.<br>\n",
    "Avoids print statements – More flexible and manageable than print().<br>\n",
    " When to Use Logging?<br>\n",
    "Debugging programs (instead of using print()).<br>\n",
    "Tracking user actions in applications.<br>\n",
    "Saving error messages for troubleshooting<br>.\n",
    "Monitoring system behavior in real-time applications.<br>"
   ]
  },
  {
   "cell_type": "markdown",
   "metadata": {},
   "source": [
    "**Question 22:**\n",
    "The os module in Python provides functions for interacting with the operating system, including file and directory management.<br>\n",
    "Key Uses of the os Module in File Handling<br>\n",
    "Checking if a File Exists<br>\n",
    "Creating, Renaming, and Deleting Files<br>\n",
    "Working with Directories (Create, Remove, List)<br>\n",
    "Getting File Information (Size, Path, etc.)<br>\n",
    "Navigating the File System<br>\n",
    "\n",
    "\n"
   ]
  },
  {
   "cell_type": "markdown",
   "metadata": {},
   "source": [
    "**Question 23:**<br>\n",
    "Python has automatic memory management, meaning it handles memory allocation and deallocation without requiring manual intervention. However, there are still some challenges that developers should be aware of.<br>\n",
    "Key Challenges in Memory Management<br>\n",
    "**Memory Leaks (Unreleased Memory)**<br>\n",
    "Memory leaks occur when memory is not freed after it is no longer needed.<br>\n",
    "Even though Python has garbage collection, some objects (e.g., circular references) may not be automatically removed.<br>\n",
    "**High Memory Usage Due to Large Objects**<br>\n",
    "Large lists, dictionaries, or NumPy arrays consume a lot of memory.<br>\n",
    "If not handled properly, they may cause performance issues.<br>\n",
    " **Fragmentation (Inefficient Memory Usage)**<br>\n",
    " Python’s memory manager sometimes fragments memory, leading to inefficient usage.<br>\n",
    "This happens when small objects are scattered across memory instead of being stored contiguously.<br>\n",
    "**Objects Not Being Freed Immediately**<br>\n",
    "Python’s garbage collector does not immediately free memory after objects are deleted.<br>\n",
    "Memory may still be reserved for future use by Python’s memory manager.<br>"
   ]
  },
  {
   "cell_type": "markdown",
   "metadata": {},
   "source": [
    "**Question 24:**<br>\n",
    "In Python, you can manually raise an exception using the raise keyword. This is useful when you want to signal an error condition in your program based on custom logic.<br>\n",
    "**Syntax of Raising an Exception**<br>\n",
    "raise Exception(\"Custom error message\")<br>\n",
    "When to Use raise?<br>\n",
    "When you need to enforce custom validation.<br>\n",
    "When writing custom error messages.<br>\n",
    "When developing custom exceptions in a large application.<br>"
   ]
  },
  {
   "cell_type": "markdown",
   "metadata": {},
   "source": [
    "**Question 25:**<br>\n",
    "Multithreading allows a program to run multiple tasks concurrently within the same process. This is useful for improving performance and responsiveness in applications where multiple tasks can be executed at the same time.<br>\n",
    " **Key Reasons for Using Multithreading**<br>\n",
    " **Improved Responsiveness**<br>\n",
    " In GUI applications (like a web browser or a game), multithreading keeps the interface responsive while performing background tasks.<br>\n",
    " Faster Execution for I/O-Intensive Tasks<br>\n",
    "Multithreading is beneficial for tasks that involve waiting, such as:<br>\n",
    "File reading/writing<br>\n",
    "Downloading data from the internet<br>\n",
    "Database operations<br>\n",
    "**Efficient Use of CPU for Parallel Tasks (In Some Cases)**\n",
    "Python’s Global Interpreter Lock (GIL) prevents true parallel execution of CPU-bound tasks in standard Python threads.<br>\n",
    "However, in I/O-bound applications (e.g., web scraping, network requests), multithreading improves efficiency.<br>\n",
    "For CPU-bound tasks, multiprocessing is usually a better choice.<br>"
   ]
  }
 ],
 "metadata": {
  "kernelspec": {
   "display_name": "Python 3",
   "language": "python",
   "name": "python3"
  },
  "language_info": {
   "codemirror_mode": {
    "name": "ipython",
    "version": 3
   },
   "file_extension": ".py",
   "mimetype": "text/x-python",
   "name": "python",
   "nbconvert_exporter": "python",
   "pygments_lexer": "ipython3",
   "version": "3.13.1"
  }
 },
 "nbformat": 4,
 "nbformat_minor": 2
}
