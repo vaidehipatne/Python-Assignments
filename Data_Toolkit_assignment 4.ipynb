{
 "cells": [
  {
   "cell_type": "markdown",
   "metadata": {},
   "source": [
    "<h1>Theory Questions</h1>"
   ]
  },
  {
   "cell_type": "markdown",
   "metadata": {},
   "source": [
    "<h4>1. What is NumPy, and why is it widely used in Python?</h4>"
   ]
  },
  {
   "cell_type": "markdown",
   "metadata": {},
   "source": [
    "**Ans:** NumPy is a Python library that supports large multi-dimensional arrays and mathematical operations. It's widely used in scientific computing, data analysis, and machine learning. <br>\n",
    "NumPy is widely used because of it's characteristics<br>\n",
    "**High performance**: NumPy is optimized for fast numeric computation.<br> \n",
    "**Open source:** NumPy is free and open source, with a large community of contributors.<br>\n",
    "**Integrates with other languages:** NumPy can be accessed from other programming languages, such as C, through its C-API.<br>\n",
    "**Foundation for other libraries:** NumPy is the core library for scientific computing, and is used by other Python libraries like Pandas, SciPy, and Scikit-learn. <br>\n"
   ]
  },
  {
   "cell_type": "markdown",
   "metadata": {},
   "source": [
    "<h4>2. How does broadcasting work in NumPy?</h4>"
   ]
  },
  {
   "cell_type": "markdown",
   "metadata": {},
   "source": [
    "**Ans:**\n",
    "Broadcasting simplifies mathematical operations on arrays with different shapes. It enables NumPy to efficiently apply operations element-wise without explicitly copying or reshaping data.<br>\n",
    "\n",
    "It automatically adjusts the smaller array to match the shape of the larger array by replicating its values along the necessary dimensions.<br>\n",
    "This feature reduces memory usage and eliminates the need for manual loops making code concise and computationally faster making it essential for handling large datasets and performing complex calculations in python. <br>\n",
    "Let’s understand the concept with quick example: Suppose we want to add scalar to a 2D Array.<br>"
   ]
  },
  {
   "cell_type": "markdown",
   "metadata": {},
   "source": [
    "Broadcasting applies specific rules to determine whether two arrays can be aligned for operations:\n",
    "\n",
    "Check Dimensions: Ensure the arrays have the same number of dimensions or expandable dimensions.\n",
    "Dimension Padding: If arrays have different numbers of dimensions, the smaller array is left-padded with ones.\n",
    "Shape Compatibility: Two dimensions are compatible if:\n",
    "They are equal, or\n",
    "One of them is 1.\n",
    "If these conditions are not met, a ValueError is raised."
   ]
  },
  {
   "cell_type": "markdown",
   "metadata": {},
   "source": [
    "<h4>3.  What is a Pandas DataFrame?</h4>"
   ]
  },
  {
   "cell_type": "markdown",
   "metadata": {},
   "source": [
    "**Ans:**\n",
    "pandas DataFrame is a way to represent and work with tabular data. It can be seen as a table that organizes data into rows and columns, making it a two-dimensional data structure. <br>A DataFrame can be created from scratch, or you can use other data structures, like NumPy arrays."
   ]
  },
  {
   "cell_type": "markdown",
   "metadata": {},
   "source": [
    "<h4>4. Explain the use of the groupby() method in Pandas</h4>"
   ]
  },
  {
   "cell_type": "markdown",
   "metadata": {},
   "source": [
    "**Ans:** \n",
    "Pandas groupby() function is a powerful tool used to split a DataFrame into groups based on one or more columns, allowing for efficient data analysis and aggregation. \n",
    "<br>It follows a “split-apply-combine” strategy, where data is divided into groups, a function is applied to each group, and the results are combined into a new DataFrame. <br>\n",
    "Example, if you have a dataset of sales transactions, you can use groupby() to group the data by product category and calculate the total sales for each category.<br>"
   ]
  },
  {
   "cell_type": "markdown",
   "metadata": {},
   "source": [
    "<h4>5. Why is Seaborn preferred for statistical visualizations</h4>"
   ]
  },
  {
   "cell_type": "markdown",
   "metadata": {},
   "source": [
    "**Ans:**\n",
    "Data visualization can be done by seaborn and it can transform complex datasets into clear visual representations making it easier to understand, identify trends and relationships within the data. <br>This article will guide you through various plotting functions available in Seaborn."
   ]
  },
  {
   "cell_type": "markdown",
   "metadata": {},
   "source": [
    "<h4>6. What are the differences between NumPy arrays and Python lists?</h4>"
   ]
  },
  {
   "cell_type": "markdown",
   "metadata": {},
   "source": [
    "**Ans:**\n",
    "The biggest difference is NumPy arrays use fewer resources than Python lists, which becomes important when storing a large amount of data. If you're working with thousands of elements, Python lists will be fine for most purposes."
   ]
  },
  {
   "cell_type": "markdown",
   "metadata": {},
   "source": [
    "**NumPy:** We can create an N-dimensional array in Python using Numpy.array().<br>\n",
    "The array is by default Homogeneous, which means data inside an array must be of the same Datatype. (Note You can also create a structured array in Python).<br>\n",
    "Element-wise operation is possible.<br>\n",
    "Numpy array has various functions, methods, and variables, to ease our task of matrix computation.<br>\n",
    "**Lists:** The list can be homogeneous or heterogeneous.<br>\n",
    "Element-wise operation is not possible on the list.<br>\n",
    "Python list is by default 1-dimensional. But we can create an N-Dimensional list. But then too it will be 1 D list storing another 1D list<br>"
   ]
  },
  {
   "cell_type": "markdown",
   "metadata": {},
   "source": [
    "<h4>7. What is a heatmap, and when should it be used?</h4>"
   ]
  },
  {
   "cell_type": "markdown",
   "metadata": {},
   "source": [
    "**Ans:**\n",
    "A heatmap is a data visualization tool that uses color to show how values vary across a grid. Heatmaps are useful for identifying patterns, correlations, and areas of interest. <br>\n",
    "**When to use a heatmap:**\n",
    "To understand user behavior: \n",
    "Use heatmaps to see how users interact with a website, such as where they click and scroll. <br>\n",
    "To improve a product:\n",
    "Use heatmaps to identify which elements users like or dislike, and to improve the product. <br>\n",
    "To analyze large datasets:\n",
    "Use heatmaps to condense complex information into an easily interpretable format. <br>\n",
    "To assess ad effectiveness:\n",
    "Use heatmaps to determine the impact of ads, logos, packaging, or new products. <br>\n",
    "To optimize production:\n",
    "Use heatmaps to identify bottlenecks and areas for improvement in manufacturing. <br>\n",
    "To analyze foot traffic:\n",
    "Use heatmaps to analyze foot traffic in retail stores. <br>\n",
    "To monitor population parameters:\n",
    "Use heatmaps to understand parameters such as per-capita-income or employment rate. <br>"
   ]
  },
  {
   "cell_type": "markdown",
   "metadata": {},
   "source": [
    "<h4>8. What does the term “vectorized operation” mean in NumPy?</h4>"
   ]
  },
  {
   "cell_type": "markdown",
   "metadata": {},
   "source": [
    "**Ans:** Vectorizion in NumPy is a method of performing operations on entire arrays without explicit loops. This approach leverages NumPy's underlying C implementation for faster and more efficient computations. By replacing iterative processes with vectorized functions, you can significantly optimize perf.\n"
   ]
  },
  {
   "cell_type": "markdown",
   "metadata": {},
   "source": [
    "<h4>9. How does Matplotlib differ from Plotly?</h4>"
   ]
  },
  {
   "cell_type": "markdown",
   "metadata": {},
   "source": [
    "**Ans:**\n",
    "Both Matplotlib and Plotly have their distinct advantages. Matplotlib offers unmatched control and is perfect for creating static, publication-quality visuals.<br> Plotly, on the other hand, excels in interactivity and ease of use, making it ideal for dynamic presentations and web applications."
   ]
  },
  {
   "cell_type": "markdown",
   "metadata": {},
   "source": [
    "<h4>10. What is the significance of hierarchical indexing in Panda?</h4>"
   ]
  },
  {
   "cell_type": "markdown",
   "metadata": {},
   "source": [
    "**Ans:**\n",
    "In pandas, MultiIndexes can help to provide optimized queries and preserve relationships. MultiIndexes are themselves data values, and pandas handles them as such in queries, but the full contents of a hierarchical index are displayable in the results view."
   ]
  },
  {
   "cell_type": "markdown",
   "metadata": {},
   "source": [
    "<h4>11.What is the role of Seaborn’s pairplot() function?</h4>"
   ]
  },
  {
   "cell_type": "markdown",
   "metadata": {},
   "source": [
    "**Ans:**\n",
    "Seaborn's pairplot() function creates a grid of axes where each variable in the dataset is plotted against every other variable, allowing for a quick visualization of pairwise relationships and distributions. <br>\n",
    "**Purpose:**<br>\n",
    "The primary use of pairplot is to visualize the distribution of single variables and the relationships between two variables in a dataset. <br>\n",
    "**Functionality:**<br>\n",
    "It generates an NxN grid of plots, where N is the number of numeric variables in the dataset. <br>\n",
    "The diagonal plots show the univariate distribution of each variable (often as histograms). <br>\n",
    "The off-diagonal plots display the pairwise relationships between variables (typically as scatter plots). <br>"
   ]
  },
  {
   "cell_type": "markdown",
   "metadata": {},
   "source": [
    "<h4>12. What is the purpose of the describe() function in Panda?</br>"
   ]
  },
  {
   "cell_type": "markdown",
   "metadata": {},
   "source": [
    "**Ans:**\n",
    "The describe() function in Pandas is used to generate a summary of a DataFrame's columns. It provides a quick overview of the data, including statistical metrics like mean, standard deviation, and percentiles.<br>\n",
    "**Purpose:**<br>\n",
    "To get a quick overview of the data.<br>\n",
    "To provide a foundation for data analysis.<br>\n",
    "To assess basic statistical insights.<br>\n",
    "To drive more complex data analysis and decision-making processes.<br>\n"
   ]
  },
  {
   "cell_type": "markdown",
   "metadata": {},
   "source": [
    "<h4>13. Why is handling missing data important in Pandas?</hr>"
   ]
  },
  {
   "cell_type": "markdown",
   "metadata": {},
   "source": [
    "**Ans:**\n",
    "Handling missing data in Pandas is crucial because unaddressed missing values can lead to inaccurate analysis, biased results, and incorrect conclusions, ultimately impacting the reliability and validity of your data insights. <br>\n",
    "Impact on Analysis:<br>\n",
    "Missing data can distort statistical analyses, skew trends, and lead to misleading interpretations of your data. <br>\n",
    "Bias and Inaccurate Results:<br>\n",
    "If missing data isn't addressed appropriately, it can introduce bias into your analysis, leading to inaccurate conclusions and potentially flawed decision-making. <br>\n",
    "Reduced Statistical Power:<br>\n",
    "Missing data can reduce the statistical power of your analyses, making it harder to detect real effects or relationships. <br>\n",
    "Data Integrity:<br>\n",
    "Missing data can compromise the integrity of your dataset, making it less reliable and potentially unusable for certain analyses. <br>"
   ]
  },
  {
   "cell_type": "markdown",
   "metadata": {},
   "source": [
    "<h4>14. What are the benefits of using Plotly for data visualizatio?</h4>"
   ]
  },
  {
   "cell_type": "markdown",
   "metadata": {},
   "source": [
    "**Ans:**\n",
    "It allows you to create interactive and customizable charts easily. Plotly supports various chart types and integrates seamlessly with Python, R, and JavaScript. Its interactive features, like zoom and hover, enhance data exploration, and you can share your visualizations online, making it great for collaboration.<br>\n",
    "Plotly is a Python library that helps you create interactive and visually appealing charts and graphs. It allows you to display data in a way that’s easy to explore and understand, such as by zooming in, hovering over data points for more details, and clicking to get deeper insights Plotly uses JavaScript to handle interactivity, but you don’t need to worry about that when using it in Python.<br>"
   ]
  },
  {
   "cell_type": "markdown",
   "metadata": {},
   "source": [
    "<h4>15. How does NumPy handle multidimensional arrays?</h4>"
   ]
  },
  {
   "cell_type": "markdown",
   "metadata": {},
   "source": [
    "**Ans:**\n",
    "NumPy is a general-purpose array-processing package. It provides a high-performance multidimensional array object and tools for working with these arrays. It is the fundamental package for scientific computing with Python.<br>\n",
    "Example:<br> \n",
    "import numpy as np<br>\n",
    "arr_s = np.arange(5)<br>\n",
    "print(arr_s)<br>\n",
    "Output:<br>\n",
    "[0 1 2 3 4]"
   ]
  },
  {
   "cell_type": "markdown",
   "metadata": {},
   "source": [
    "<h4>16. What is the role of Bokeh in data visualization?</h4>"
   ]
  },
  {
   "cell_type": "markdown",
   "metadata": {},
   "source": [
    "**Ans:**\n",
    "Bokeh is a Python library that facilitates creating interactive and dynamic visualizations for modern web browsers, enabling users to build everything from simple plots to complex dashboards, especially for large or streaming datasets. <br>\n",
    "**Interactive Visualizations:**<br>\n",
    "Bokeh excels at creating visualizations that users can interact with, such as zooming, panning, and tooltips, directly within a web browser. <br>\n",
    "**Web-Based Output:**<br>\n",
    "Bokeh renders its plots using HTML and JavaScript, making them suitable for web applications and dashboards. <br>\n",
    "**Flexibility and Customization:**<br>\n",
    "It allows users to create both standard plots and highly customized visualizations, including dashboards for big, dynamic, or streaming data. <br>\n",
    "**Integration with Web Technologies:**<br>\n",
    "Bokeh integrates well with web technologies, making it easy to embed visualizations in web applications. <br>\n",
    "**Data Visualization Capabilities:**<br>\n",
    "Bokeh supports various chart types, including scatter plots, line plots, bar charts, histograms, and more. <br>\n"
   ]
  },
  {
   "cell_type": "markdown",
   "metadata": {},
   "source": [
    "<h4>17. Explain the difference between apply() and map() in Pandas?<h4>"
   ]
  },
  {
   "cell_type": "markdown",
   "metadata": {},
   "source": [
    "**Ans:**\n",
    "map is great for simple element-wise transformations in Series, apply offers more flexibility for both Series and DataFrame objects.<br> \n",
    "On the other hand, applymap excels at DataFrame-wide element-wise operations.<br>\n",
    "Pandas library is extensively used for data manipulation and analysis. map(), applymap(), and apply() methods are methods of Pandas library in Python. The type of Output totally depends on the type of function used as an argument with the given method. <br>\n",
    "The apply() method can be applied both to series and Dataframes where a function can be applied to both series and individual elements based on the type of function provided."
   ]
  },
  {
   "cell_type": "markdown",
   "metadata": {},
   "source": [
    "<h4>18. What are some advanced features of NumPy?</h4>"
   ]
  },
  {
   "cell_type": "markdown",
   "metadata": {},
   "source": [
    "**Ans:**\n",
    "**Broadcasting**: Automatically aligns arrays of different shapes for element-wise computations. <br>\n",
    "**Linear algebra**: Includes routines for matrix multiplication, decompositions, and determinants. <br>\n",
    "**Vectorization**: Applies operations directly on entire arrays, eliminating the need for explicit Python loops.<br> \n",
    "**Random number generation**: Generates large arrays of samples all at once. <br>\n",
    "**Array indexing**: Allows users to pass lists for one-to-one mapping of corresponding elements for each dimension.<br> \n",
    "**Array operations**: Includes arithmetic and logical operations that can be performed on arrays.<br> \n",
    "**Data type definition**: Allows users to work with arrays of different data types.<br> \n",
    "**Tools for integrating code from C/C++ and Fortran**: Allows users to integrate code from other languages into their NumPy code.<br> \n",
    "**Multidimensional container for generic data**: Allows users to perform functions on generic data types.<br> "
   ]
  },
  {
   "cell_type": "markdown",
   "metadata": {},
   "source": [
    "<h4>19.  How does Pandas simplify time series analysis</h4>"
   ]
  },
  {
   "cell_type": "markdown",
   "metadata": {},
   "source": [
    "**Ans:**\n",
    "Combining the ease of use of dateutil and datetime modules and the vectorized interface and efficient storage of NumPy's datetime64, pandas provides a Timestamp object. The library then makes a DatetimeIndex from these Timestamp objects to index a DataFrame or Series."
   ]
  },
  {
   "cell_type": "markdown",
   "metadata": {},
   "source": [
    "<h4>20. What is the role of a pivot table in Pandas?</h4>"
   ]
  },
  {
   "cell_type": "markdown",
   "metadata": {},
   "source": [
    "**Ans:**\n",
    "Pandas pivot tables work in a very similar way to those found in spreadsheet tools such as Microsoft Excel. <br>\n",
    "The pivot table function takes in a data frame and the parameters detailing the shape you want the data to take. <br>\n",
    "\n",
    "Then it outputs summarized data in the form of a pivot table.\n"
   ]
  },
  {
   "cell_type": "markdown",
   "metadata": {},
   "source": [
    "<h4>21. Why is NumPy’s array slicing faster than Python’s list slicing?</h4>"
   ]
  },
  {
   "cell_type": "markdown",
   "metadata": {},
   "source": [
    "**Ans:**\n",
    "NumPy arrays are optimized for numerical computations, with efficient element-wise operations and mathematical functions. These operations are implemented in C, resulting in faster performance than equivalent operations on lists.\n"
   ]
  },
  {
   "cell_type": "markdown",
   "metadata": {},
   "source": [
    "<h4>22.  What are some common use cases for Seaborn?<h4>"
   ]
  },
  {
   "cell_type": "markdown",
   "metadata": {},
   "source": [
    "**Ans:**\n",
    "Exploratory Data Analysis (EDA)<br>\n",
    "Visualizing Distributions (histograms, KDE, boxplots, violin plots)<br>\n",
    "Correlation & Relationships (scatter plots, pair plots, heatmaps)<br>\n",
    "Categorical Data (bar plots, count plots, boxplots)<br>\n",
    "Time Series Analysis (line plots, heatmaps)<br>\n",
    "Statistical Model Visualization (regression plots, residual plots)<br>\n",
    "Facet Grids (multi-variable analysis)<br>\n",
    "Enhancing Matplotlib plots (better styling & readability) <br>"
   ]
  },
  {
   "cell_type": "markdown",
   "metadata": {},
   "source": [
    "<h1> Practical Questions</h1>"
   ]
  },
  {
   "cell_type": "markdown",
   "metadata": {},
   "source": [
    "<h4>1. How do you create a 2D NumPy array and calculate the sum of each row?</h4>"
   ]
  },
  {
   "cell_type": "code",
   "execution_count": null,
   "metadata": {},
   "outputs": [
    {
     "name": "stdout",
     "output_type": "stream",
     "text": [
      "Original 2D array:[[1 2 3]\n",
      " [4 5 6]\n",
      " [7 8 9]]\n",
      "\n",
      "Sum of each row:[ 6 15 24]\n"
     ]
    }
   ],
   "source": [
    "\n",
    "import numpy as np # Import numpy library\n",
    "\n",
    "# creating 2-D numpy array\n",
    "array_2d = np.array([[1,2,3],\n",
    "                    [4,5,6],\n",
    "                    [7,8,9]])\n",
    "\n",
    "# calculating the sum of each row\n",
    "row_sums = np.sum(array_2d, axis=1)\n",
    "\n",
    "# print original array\n",
    "print(f'Original 2D array:{array_2d}')\n",
    "\n",
    "print(f'\\nSum of each row:{row_sums}')"
   ]
  },
  {
   "cell_type": "markdown",
   "metadata": {},
   "source": [
    "<h4>2. Write a Pandas script to find the mean of a specific column in a DataFrame.</h4>"
   ]
  },
  {
   "cell_type": "code",
   "execution_count": null,
   "metadata": {},
   "outputs": [
    {
     "name": "stdout",
     "output_type": "stream",
     "text": [
      "DataFrame:\n"
     ]
    },
    {
     "data": {
      "text/html": [
       "<div>\n",
       "<style scoped>\n",
       "    .dataframe tbody tr th:only-of-type {\n",
       "        vertical-align: middle;\n",
       "    }\n",
       "\n",
       "    .dataframe tbody tr th {\n",
       "        vertical-align: top;\n",
       "    }\n",
       "\n",
       "    .dataframe thead th {\n",
       "        text-align: right;\n",
       "    }\n",
       "</style>\n",
       "<table border=\"1\" class=\"dataframe\">\n",
       "  <thead>\n",
       "    <tr style=\"text-align: right;\">\n",
       "      <th></th>\n",
       "      <th>numbers</th>\n",
       "    </tr>\n",
       "  </thead>\n",
       "  <tbody>\n",
       "    <tr>\n",
       "      <th>0</th>\n",
       "      <td>10</td>\n",
       "    </tr>\n",
       "    <tr>\n",
       "      <th>1</th>\n",
       "      <td>20</td>\n",
       "    </tr>\n",
       "    <tr>\n",
       "      <th>2</th>\n",
       "      <td>30</td>\n",
       "    </tr>\n",
       "    <tr>\n",
       "      <th>3</th>\n",
       "      <td>40</td>\n",
       "    </tr>\n",
       "    <tr>\n",
       "      <th>4</th>\n",
       "      <td>50</td>\n",
       "    </tr>\n",
       "    <tr>\n",
       "      <th>5</th>\n",
       "      <td>60</td>\n",
       "    </tr>\n",
       "  </tbody>\n",
       "</table>\n",
       "</div>"
      ],
      "text/plain": [
       "   numbers\n",
       "0       10\n",
       "1       20\n",
       "2       30\n",
       "3       40\n",
       "4       50\n",
       "5       60"
      ]
     },
     "metadata": {},
     "output_type": "display_data"
    },
    {
     "name": "stdout",
     "output_type": "stream",
     "text": [
      "\n",
      "Mean of Numbers:35.0\n"
     ]
    }
   ],
   "source": [
    "import pandas as pd # import pandas library\n",
    "\n",
    "# creating a simple dataframe\n",
    "data = {\"numbers\": [10,20,30,40,50,60]}\n",
    "df = pd.DataFrame(data) # convert to DataFrame\n",
    "\n",
    "# Calculating the mean\n",
    "mean = df['numbers'].mean()\n",
    "\n",
    "print('DataFrame:')\n",
    "display(df)\n",
    "\n",
    "print(f\"\\nMean of Numbers:{mean}\")"
   ]
  },
  {
   "cell_type": "markdown",
   "metadata": {},
   "source": [
    "<h4>3. Create a scatter plot using Matplotlib.</h4>"
   ]
  },
  {
   "cell_type": "code",
   "execution_count": null,
   "metadata": {},
   "outputs": [
    {
     "data": {
      "image/png": "[encoded data removed]",
      "text/plain": [
       "<Figure size 640x480 with 1 Axes>"
      ]
     },
     "metadata": {},
     "output_type": "display_data"
    }
   ],
   "source": [
    "import matplotlib.pyplot as plt # import matplotlib\n",
    "\n",
    "# sample data\n",
    "x = [10,20,30,40,50,70,90,110] # x-axis\n",
    "y = [5,10,34,23,55,60,65,80] # y-axis\n",
    "\n",
    "# creating the scatter plot\n",
    "plt.scatter(x, y, color='blue', marker='o')\n",
    "\n",
    "# adding labels and title\n",
    "plt.xlabel('X-axis')\n",
    "plt.ylabel('Y-axis')\n",
    "plt.title('Simple scatter plot')\n",
    "\n",
    "# show the plot\n",
    "plt.show()"
   ]
  },
  {
   "cell_type": "markdown",
   "metadata": {},
   "source": [
    "<h4>4. How do you calculate the correlation matrix using Seaborn and visualize it with a heatmap?</h4>"
   ]
  },
  {
   "cell_type": "code",
   "execution_count": null,
   "metadata": {},
   "outputs": [
    {
     "data": {
      "image/png": "[encoded data removed]",
      "text/plain": [
       "<Figure size 640x480 with 2 Axes>"
      ]
     },
     "metadata": {},
     "output_type": "display_data"
    }
   ],
   "source": [
    "import seaborn as sns # import seaborn\n",
    "import pandas as pd # import pandas\n",
    "import matplotlib.pyplot as plt # import matplotlib\n",
    "\n",
    "# create simple Dataframe\n",
    "data = {\n",
    "    'A': [10, 20, 30, 40, 50],\n",
    "    'B': [5,15,25,35,45],\n",
    "    'C': [50,40,30,20,10]\n",
    "}\n",
    "\n",
    "df = pd.DataFrame(data) # convert dictionary to Dataframe\n",
    "\n",
    "# calculate the correlation matrix\n",
    "correlation_matrix = df.corr()\n",
    "\n",
    "# create a heatmap using seaborn\n",
    "sns.heatmap(correlation_matrix, annot=True, cmap='coolwarm', fmt='.2f')\n",
    "\n",
    "# add title\n",
    "plt.title('Correlation matrix heatmap')\n",
    "\n",
    "# show the plot\n",
    "plt.show()"
   ]
  },
  {
   "cell_type": "markdown",
   "metadata": {},
   "source": [
    "<h4>5.  Generate a bar plot using Plotly.</h4>"
   ]
  },
  {
   "cell_type": "code",
   "execution_count": null,
   "metadata": {},
   "outputs": [],
   "source": [
    "import plotly.express as px  # Import Plotly Express\n",
    "import pandas as pd  # Import Pandas\n",
    "import plotly.io as pio  # Import Plotly I/O module\n",
    "\n",
    "# Set the renderer to open in a browser\n",
    "pio.renderers.default = \"browser\"\n",
    "\n",
    "# Sample data\n",
    "data = {\n",
    "    'Category': ['A', 'B', 'C', 'D', 'E'],\n",
    "    'Values': [10, 20, 30, 40, 50]\n",
    "}\n",
    "\n",
    "# Create a DataFrame\n",
    "df = pd.DataFrame(data)\n",
    "\n",
    "# Create a bar plot\n",
    "fig = px.bar(df, x='Category', y='Values', title=\"Simple Bar Plot\", color='Category')\n",
    "\n",
    "# Show the plot (opens in a web browser)\n",
    "fig.show()"
   ]
  },
  {
   "cell_type": "markdown",
   "metadata": {},
   "source": [
    "<h4>6. Create a DataFrame and add a new column based on an existing column.</h4>"
   ]
  },
  {
   "cell_type": "code",
   "execution_count": null,
   "metadata": {},
   "outputs": [
    {
     "name": "stdout",
     "output_type": "stream",
     "text": [
      "      Name  Age Age_Group\n",
      "0    Alice   14     Young\n",
      "1   Dhiraj   32     Adult\n",
      "2  Vaidehi   32     Adult\n",
      "3   Antara   16     Young\n",
      "4    Aryan   22     Adult\n",
      "5    Omkar   28     Adult\n"
     ]
    }
   ],
   "source": [
    "# creation of dataframe\n",
    "data = {\n",
    "    'Name': ['Alice', 'Dhiraj', 'Vaidehi', 'Antara', 'Aryan', 'Omkar'],\n",
    "    'Age': [14,32,32,16,22,28]\n",
    "}\n",
    "\n",
    "df = pd.DataFrame(data) # convert dictionary to dataframe\n",
    "\n",
    "# adding a new column 'Age_Group' based on Age\n",
    "df['Age_Group'] = df['Age'].apply(lambda age: 'Young' if age < 18 else 'Adult')\n",
    "\n",
    "# print updated dataframe\n",
    "print(df)"
   ]
  },
  {
   "cell_type": "markdown",
   "metadata": {},
   "source": [
    "<h4>7. Write a program to perform element-wise multiplication of two NumPy array</h4>"
   ]
  },
  {
   "cell_type": "code",
   "execution_count": null,
   "metadata": {},
   "outputs": [
    {
     "name": "stdout",
     "output_type": "stream",
     "text": [
      "Array 1: [1 2 3 4 5]\n",
      "Array 2: [10 20 30 40 50]\n",
      "Element-wise multiplication result:[ 10  40  90 160 250]\n"
     ]
    }
   ],
   "source": [
    "# creation of 2 numpy arrays\n",
    "arr_1 = np.array([1,2,3,4,5])\n",
    "arr_2 = np.array([10,20,30,40,50])\n",
    "\n",
    "# Element-wise multiplication\n",
    "result = arr_1 * arr_2\n",
    "\n",
    "# print the result\n",
    "print(f'Array 1: {arr_1}')\n",
    "print(f'Array 2: {arr_2}')\n",
    "print(f'Element-wise multiplication result:{result}')"
   ]
  },
  {
   "cell_type": "markdown",
   "metadata": {},
   "source": [
    "<h4>8. Create a line plot with multiple lines using Matplotlib.</h4>"
   ]
  },
  {
   "cell_type": "code",
   "execution_count": null,
   "metadata": {},
   "outputs": [
    {
     "data": {
      "image/png": "[encoded data removed]",
      "text/plain": [
       "<Figure size 640x480 with 1 Axes>"
      ]
     },
     "metadata": {},
     "output_type": "display_data"
    }
   ],
   "source": [
    "import matplotlib.pyplot as plt  # Import Matplotlib\n",
    "\n",
    "# Sample data\n",
    "x = [1, 2, 3, 4, 5]  # X-axis values\n",
    "y1 = [10, 20, 30, 40, 50]  # First line (Line 1)\n",
    "y2 = [5, 15, 25, 35, 45]  # Second line (Line 2)\n",
    "y3 = [2, 10, 18, 26, 34]  # Third line (Line 3)\n",
    "\n",
    "# Creating the line plot\n",
    "plt.plot(x, y1, label=\"Line 1\", color='blue', marker='o', linestyle='-')\n",
    "plt.plot(x, y2, label=\"Line 2\", color='red', marker='s', linestyle='--')\n",
    "plt.plot(x, y3, label=\"Line 3\", color='green', marker='d', linestyle=':')\n",
    "\n",
    "# Adding labels and title\n",
    "plt.xlabel(\"X Values\")  \n",
    "plt.ylabel(\"Y Values\")  \n",
    "plt.title(\"Line Plot with Multiple Lines\")\n",
    "\n",
    "# Adding a legend\n",
    "plt.legend()\n",
    "\n",
    "# Show the plot\n",
    "plt.show()"
   ]
  },
  {
   "cell_type": "markdown",
   "metadata": {},
   "source": [
    "<h4>9. Generate a Pandas DataFrame and filter rows where a column value is greater than a threshold.</h4>"
   ]
  },
  {
   "cell_type": "code",
   "execution_count": null,
   "metadata": {},
   "outputs": [
    {
     "data": {
      "text/html": [
       "<div>\n",
       "<style scoped>\n",
       "    .dataframe tbody tr th:only-of-type {\n",
       "        vertical-align: middle;\n",
       "    }\n",
       "\n",
       "    .dataframe tbody tr th {\n",
       "        vertical-align: top;\n",
       "    }\n",
       "\n",
       "    .dataframe thead th {\n",
       "        text-align: right;\n",
       "    }\n",
       "</style>\n",
       "<table border=\"1\" class=\"dataframe\">\n",
       "  <thead>\n",
       "    <tr style=\"text-align: right;\">\n",
       "      <th></th>\n",
       "      <th>Name</th>\n",
       "      <th>Age</th>\n",
       "    </tr>\n",
       "  </thead>\n",
       "  <tbody>\n",
       "    <tr>\n",
       "      <th>1</th>\n",
       "      <td>Bob</td>\n",
       "      <td>35</td>\n",
       "    </tr>\n",
       "    <tr>\n",
       "      <th>2</th>\n",
       "      <td>Dhiraj</td>\n",
       "      <td>32</td>\n",
       "    </tr>\n",
       "    <tr>\n",
       "      <th>3</th>\n",
       "      <td>Vaidehi</td>\n",
       "      <td>32</td>\n",
       "    </tr>\n",
       "  </tbody>\n",
       "</table>\n",
       "</div>"
      ],
      "text/plain": [
       "      Name  Age\n",
       "1      Bob   35\n",
       "2   Dhiraj   32\n",
       "3  Vaidehi   32"
      ]
     },
     "metadata": {},
     "output_type": "display_data"
    }
   ],
   "source": [
    "# create a dataframe\n",
    "data = {\n",
    "    'Name':['Alice', 'Bob', 'Dhiraj', 'Vaidehi', 'Antara'],\n",
    "    'Age': [25,35,32,32,15]\n",
    "}\n",
    "\n",
    "# convert dictionary to dataframe\n",
    "df = pd.DataFrame(data)\n",
    "\n",
    "# filtering rows where 'Age' is greater than 30\n",
    "filtered_df = df[df['Age'] > 30]\n",
    "\n",
    "# display filtered dataframe\n",
    "display(filtered_df)"
   ]
  },
  {
   "cell_type": "markdown",
   "metadata": {},
   "source": [
    "<h4>10. Create a histogram using Seaborn to visualize a distributio.</h4>"
   ]
  },
  {
   "cell_type": "code",
   "execution_count": null,
   "metadata": {},
   "outputs": [
    {
     "data": {
      "image/png": "[encoded data removed]",
      "text/plain": [
       "<Figure size 640x480 with 1 Axes>"
      ]
     },
     "metadata": {},
     "output_type": "display_data"
    }
   ],
   "source": [
    "# generate sample data (random values)\n",
    "np.random.seed(42) # for reproducibility\n",
    "data = np.random.randn(1000) # 1000 random values from normal distribution\n",
    "\n",
    "# creating the histogram using seaborn\n",
    "sns.histplot(data, bins=30, kde=True, color='blue')\n",
    "\n",
    "# Adding labels and title\n",
    "plt.xlabel('Value')\n",
    "plt.ylabel('Frequency')\n",
    "plt.title('Histogram of Random Data')\n",
    "\n",
    "# show the plot\n",
    "plt.show()"
   ]
  },
  {
   "cell_type": "markdown",
   "metadata": {},
   "source": [
    "<h4>11. Perform matrix multiplication using NumPy.</h4>"
   ]
  },
  {
   "cell_type": "code",
   "execution_count": null,
   "metadata": {},
   "outputs": [
    {
     "name": "stdout",
     "output_type": "stream",
     "text": [
      "Matrix A: [[1 3]\n",
      " [3 4]]\n",
      "Matrix B: [[5 6]\n",
      " [7 8]]\n",
      "Matrix multiplication Result:\n",
      "[[26 30]\n",
      " [43 50]]\n"
     ]
    }
   ],
   "source": [
    "# define 2 matrices\n",
    "A = np.array(\n",
    "    [\n",
    "        [1,3],\n",
    "        [3,4]\n",
    "    ]\n",
    ")\n",
    "\n",
    "B = np.array(\n",
    "    [\n",
    "        [5,6],\n",
    "        [7,8]\n",
    "    ]\n",
    ")\n",
    "\n",
    "# performing matrix multiplication\n",
    "result = np.dot(A, B)\n",
    "\n",
    "# Printing the matrices and result\n",
    "print(f'Matrix A: {A}')\n",
    "print(f'Matrix B: {B}')\n",
    "print(f'Matrix multiplication Result:\\n{result}')"
   ]
  },
  {
   "cell_type": "markdown",
   "metadata": {},
   "source": [
    "<h4>12. Use Pandas to load a CSV file and display its first 5 rows.</h4>"
   ]
  },
  {
   "cell_type": "code",
   "execution_count": 12,
   "metadata": {},
   "outputs": [
    {
     "name": "stdout",
     "output_type": "stream",
     "text": [
      "  Inventory_ID Product_ID Store_ID  Stock_Level  Reorder_Threshold\n",
      "0         INV1     PROD28   STORE5           98                 18\n",
      "1         INV2     PROD25   STORE2           45                 10\n",
      "2         INV3     PROD21   STORE9            3                 10\n",
      "3         INV4     PROD36   STORE3           17                  9\n",
      "4         INV5     PROD36   STORE3           56                 10\n"
     ]
    }
   ],
   "source": [
    "# question 12\n",
    "\n",
    "# load csv file into dataframe\n",
    "df = pd.read_csv('inventory.csv')\n",
    "\n",
    "# Display the first 5 rows\n",
    "print(df.head())"
   ]
  },
  {
   "cell_type": "markdown",
   "metadata": {},
   "source": [
    "<h4>Create a 3D scatter plot using Plotly.</h4>"
   ]
  },
  {
   "cell_type": "code",
   "execution_count": null,
   "metadata": {},
   "outputs": [],
   "source": [
    "# set the renderer to open in a browser\n",
    "pio.renderers.default = 'browser'\n",
    "\n",
    "# generating random 3D data\n",
    "np.random.seed(42) # reproducibility\n",
    "df = px.data.iris() # load sample dataset\n",
    "\n",
    "# creation of 3D scatter plot\n",
    "fig = px.scatter_3d(df, x='sepal_length',y='sepal_width', z='petal_length',color='species',title='3D Scatter plot of Iris Dataset')\n",
    "\n",
    "# show the plot\n",
    "fig.show()"
   ]
  }
 ],
 "metadata": {
  "kernelspec": {
   "display_name": "Python 3",
   "language": "python",
   "name": "python3"
  },
  "language_info": {
   "codemirror_mode": {
    "name": "ipython",
    "version": 3
   },
   "file_extension": ".py",
   "mimetype": "text/x-python",
   "name": "python",
   "nbconvert_exporter": "python",
   "pygments_lexer": "ipython3",
   "version": "3.13.1"
  }
 },
 "nbformat": 4,
 "nbformat_minor": 2
}
