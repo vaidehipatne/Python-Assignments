{
 "cells": [
  {
   "cell_type": "markdown",
   "metadata": {},
   "source": [
    "<h1>Practical Questions</h1>"
   ]
  },
  {
   "cell_type": "code",
   "execution_count": 1,
   "metadata": {},
   "outputs": [
    {
     "name": "stdout",
     "output_type": "stream",
     "text": [
      "This animal makes a sound.\n",
      "Bark!\n"
     ]
    }
   ],
   "source": [
    "# question 1\n",
    "\n",
    "# Parent class\n",
    "class Animal:\n",
    "    def speak(self):\n",
    "        print('This animal makes a sound.')\n",
    "\n",
    "# child class\n",
    "class Dog(Animal):\n",
    "    def speak(self): # overriding the parent class method\n",
    "        print(\"Bark!\")\n",
    "\n",
    "# object creation\n",
    "animal = Animal()\n",
    "animal.speak() # calls parent class method\n",
    "\n",
    "dog = Dog()\n",
    "dog.speak() # calls overridden method in Dog class"
   ]
  },
  {
   "cell_type": "code",
   "execution_count": 2,
   "metadata": {},
   "outputs": [
    {
     "name": "stdout",
     "output_type": "stream",
     "text": [
      "Circle Area: 78.5\n",
      "Rectangle Area: 24\n"
     ]
    }
   ],
   "source": [
    "# question 2\n",
    "\n",
    "# parent class (acts like an abstract class)\n",
    "class Shape:\n",
    "    def area(self):\n",
    "        raise NotImplementedError(\"Child classes must implement this method.\")\n",
    "\n",
    "# child class circle\n",
    "class Circle(Shape):\n",
    "    def __init__(self, radius):\n",
    "        self.radius = radius\n",
    "    \n",
    "    def area(self):\n",
    "        return 3.14 * (self.radius ** 2)\n",
    "\n",
    "# child class Rectangle\n",
    "class Rectangle(Shape):\n",
    "    def __init__(self, len, wid):\n",
    "        self.len = len\n",
    "        self.wid = wid\n",
    "    \n",
    "    def area(self):\n",
    "        return self.len * self.wid\n",
    "\n",
    "# object creation\n",
    "circle = Circle(5)\n",
    "print(f\"Circle Area: {circle.area()}\")\n",
    "\n",
    "rectangle = Rectangle(4,6)\n",
    "print(f'Rectangle Area: {rectangle.area()}')"
   ]
  },
  {
   "cell_type": "code",
   "execution_count": 3,
   "metadata": {},
   "outputs": [
    {
     "name": "stdout",
     "output_type": "stream",
     "text": [
      "Vehicle Type: Car\n",
      "Car Brand: Tesla\n",
      "Battery Capacity: 75 kWh\n"
     ]
    }
   ],
   "source": [
    "# question 3\n",
    "\n",
    "# Base class (Parent class)\n",
    "class Vehicle:\n",
    "    def __init__(self, vehicle_type):\n",
    "        self.type = vehicle_type\n",
    "\n",
    "    def show_type(self):\n",
    "        print(\"Vehicle Type:\", self.type)\n",
    "\n",
    "# Derived class (Child of Vehicle)\n",
    "class Car(Vehicle):\n",
    "    def __init__(self, brand, vehicle_type=\"Car\"):\n",
    "        super().__init__(vehicle_type)  # Calling parent constructor\n",
    "        self.brand = brand\n",
    "\n",
    "    def show_brand(self):\n",
    "        print(\"Car Brand:\", self.brand)\n",
    "\n",
    "# Further Derived class (Child of Car)\n",
    "class ElectricCar(Car):\n",
    "    def __init__(self, brand, battery_capacity):\n",
    "        super().__init__(brand)  # Calling Car's constructor\n",
    "        self.battery_capacity = battery_capacity\n",
    "\n",
    "    def show_battery(self):\n",
    "        print(\"Battery Capacity:\", self.battery_capacity, \"kWh\")\n",
    "\n",
    "# Creating objects\n",
    "ev = ElectricCar(\"Tesla\", 75)\n",
    "\n",
    "# Calling methods\n",
    "ev.show_type()      # From Vehicle class\n",
    "ev.show_brand()     # From Car class\n",
    "ev.show_battery()   # From ElectricCar class"
   ]
  },
  {
   "cell_type": "code",
   "execution_count": 4,
   "metadata": {},
   "outputs": [
    {
     "name": "stdout",
     "output_type": "stream",
     "text": [
      "Sparrow flies high in the sky!\n",
      "Penguins cannot fly, they swim instead!\n"
     ]
    }
   ],
   "source": [
    "# question 4\n",
    "\n",
    "# Base class\n",
    "class Bird:\n",
    "    def fly(self):\n",
    "        print(\"Some birds can fly, some cannot.\")\n",
    "\n",
    "# Derived class Sparrow\n",
    "class Sparrow(Bird):\n",
    "    def fly(self):  # Overriding the fly method\n",
    "        print(\"Sparrow flies high in the sky!\")\n",
    "\n",
    "# Derived class Penguin\n",
    "class Penguin(Bird):\n",
    "    def fly(self):  # Overriding the fly method\n",
    "        print(\"Penguins cannot fly, they swim instead!\")\n",
    "\n",
    "# Function demonstrating polymorphism\n",
    "def make_bird_fly(bird):\n",
    "    bird.fly()\n",
    "\n",
    "# Creating objects\n",
    "sparrow = Sparrow()\n",
    "penguin = Penguin()\n",
    "\n",
    "# Calling function with different objects\n",
    "make_bird_fly(sparrow)  # Calls Sparrow's fly method\n",
    "make_bird_fly(penguin)  # Calls Penguin's fly method"
   ]
  },
  {
   "cell_type": "code",
   "execution_count": 7,
   "metadata": {},
   "outputs": [
    {
     "name": "stdout",
     "output_type": "stream",
     "text": [
      "Deposited: 500\n",
      "Withdrawn: 300\n",
      "Current Balance: 1200\n"
     ]
    }
   ],
   "source": [
    "# question 5\n",
    "\n",
    "# Class demonstrating encapsulation\n",
    "class BankAccount:\n",
    "    def __init__(self, initial_balance):\n",
    "        self.__balance = initial_balance  # Private attribute (Encapsulation)\n",
    "\n",
    "    def deposit(self, amount):\n",
    "        if amount > 0:\n",
    "            self.__balance += amount\n",
    "            print(\"Deposited:\", amount)\n",
    "        else:\n",
    "            print(\"Deposit amount must be positive.\")\n",
    "\n",
    "    def withdraw(self, amount):\n",
    "        if 0 < amount <= self.__balance:\n",
    "            self.__balance -= amount\n",
    "            print(\"Withdrawn:\", amount)\n",
    "        else:\n",
    "            print(\"Insufficient balance or invalid amount.\")\n",
    "\n",
    "    def check_balance(self):\n",
    "        print(\"Current Balance:\", self.__balance)\n",
    "\n",
    "# Creating an account object\n",
    "account = BankAccount(1000)  # Initial balance = 1000\n",
    "\n",
    "# Performing transactions\n",
    "account.deposit(500)      # Deposits 500\n",
    "account.withdraw(300)     # Withdraws 300\n",
    "account.check_balance()   # Checks balance\n",
    "\n",
    "# Trying to access private attribute directly (will give an error)\n",
    "# print(account.__balance)  # Uncommenting this will cause an AttributeError"
   ]
  },
  {
   "cell_type": "code",
   "execution_count": 8,
   "metadata": {},
   "outputs": [
    {
     "name": "stdout",
     "output_type": "stream",
     "text": [
      "Strumming the guitar!\n",
      "Playing the piano keys!\n"
     ]
    }
   ],
   "source": [
    "# question 6\n",
    "\n",
    "# Base class\n",
    "class Instrument:\n",
    "    def play(self):\n",
    "        print(\"An instrument is being played.\")\n",
    "\n",
    "# Derived class Guitar\n",
    "class Guitar(Instrument):\n",
    "    def play(self):  # Overriding the play method\n",
    "        print(\"Strumming the guitar!\")\n",
    "\n",
    "# Derived class Piano\n",
    "class Piano(Instrument):\n",
    "    def play(self):  # Overriding the play method\n",
    "        print(\"Playing the piano keys!\")\n",
    "\n",
    "# Function demonstrating runtime polymorphism\n",
    "def start_playing(instrument):\n",
    "    instrument.play()  # Calls the appropriate play() method based on object type\n",
    "\n",
    "# Creating objects\n",
    "guitar = Guitar()\n",
    "piano = Piano()\n",
    "\n",
    "# Calling function with different objects\n",
    "start_playing(guitar)  # Calls Guitar's play method\n",
    "start_playing(piano)   # Calls Piano's play method"
   ]
  },
  {
   "cell_type": "code",
   "execution_count": 1,
   "metadata": {},
   "outputs": [
    {
     "name": "stdout",
     "output_type": "stream",
     "text": [
      "Sum: 15\n",
      "Difference: 5\n"
     ]
    }
   ],
   "source": [
    "# question 7\n",
    "\n",
    "class MathOperations:\n",
    "    @classmethod\n",
    "    def add_numbers(cls, a, b):  # Class method\n",
    "        return a + b\n",
    "\n",
    "    @staticmethod\n",
    "    def subtract_numbers(a, b):  # Static method\n",
    "        return a - b\n",
    "\n",
    "# Calling methods directly from the class\n",
    "print(\"Sum:\", MathOperations.add_numbers(10, 5))\n",
    "print(\"Difference:\", MathOperations.subtract_numbers(10, 5))"
   ]
  },
  {
   "cell_type": "code",
   "execution_count": 2,
   "metadata": {},
   "outputs": [
    {
     "name": "stdout",
     "output_type": "stream",
     "text": [
      "Total persons created: 3\n"
     ]
    }
   ],
   "source": [
    "# question 8\n",
    "\n",
    "class Person:\n",
    "    total_persons = 0  # Class attribute to count persons\n",
    "\n",
    "    def __init__(self, name):\n",
    "        self.name = name\n",
    "        Person.total_persons += 1  # Increment count when a new object is created\n",
    "\n",
    "    @classmethod\n",
    "    def get_total_persons(cls):  # Class method\n",
    "        return cls.total_persons\n",
    "\n",
    "# Creating person objects\n",
    "p1 = Person(\"Alice\")\n",
    "p2 = Person(\"Bob\")\n",
    "p3 = Person(\"Charlie\")\n",
    "\n",
    "# Checking total persons created\n",
    "print(\"Total persons created:\", Person.get_total_persons())"
   ]
  },
  {
   "cell_type": "code",
   "execution_count": 3,
   "metadata": {},
   "outputs": [
    {
     "name": "stdout",
     "output_type": "stream",
     "text": [
      "3/4\n",
      "5/8\n"
     ]
    }
   ],
   "source": [
    "# question 9\n",
    "\n",
    "class Fraction:\n",
    "    def __init__(self, numerator, denominator):\n",
    "        self.numerator = numerator\n",
    "        self.denominator = denominator\n",
    "\n",
    "    def __str__(self):  # Overriding the str method\n",
    "        return f\"{self.numerator}/{self.denominator}\"\n",
    "\n",
    "# Creating fraction objects\n",
    "frac1 = Fraction(3, 4)\n",
    "frac2 = Fraction(5, 8)\n",
    "\n",
    "# Printing fractions (this will call __str__ method)\n",
    "print(frac1)  # Output: 3/4\n",
    "print(frac2)  # Output: 5/8"
   ]
  },
  {
   "cell_type": "code",
   "execution_count": 4,
   "metadata": {},
   "outputs": [
    {
     "name": "stdout",
     "output_type": "stream",
     "text": [
      "Vector 1: (2, 3)\n",
      "Vector 2: (4, 5)\n",
      "Sum of Vectors: (6, 8)\n"
     ]
    }
   ],
   "source": [
    "# question 10\n",
    "\n",
    "class Vector:\n",
    "    def __init__(self, x, y):\n",
    "        self.x = x\n",
    "        self.y = y\n",
    "\n",
    "    def __add__(self, other):  # Overloading the + operator\n",
    "        new_x = self.x + other.x\n",
    "        new_y = self.y + other.y\n",
    "        return Vector(new_x, new_y)  # Returning a new Vector object\n",
    "\n",
    "    def __str__(self):  # Overriding str method for better output\n",
    "        return f\"({self.x}, {self.y})\"\n",
    "\n",
    "# Creating vector objects\n",
    "v1 = Vector(2, 3)\n",
    "v2 = Vector(4, 5)\n",
    "\n",
    "# Adding two vectors using overloaded + operator\n",
    "v3 = v1 + v2\n",
    "\n",
    "# Printing the result\n",
    "print(\"Vector 1:\", v1)\n",
    "print(\"Vector 2:\", v2)\n",
    "print(\"Sum of Vectors:\", v3)"
   ]
  },
  {
   "cell_type": "code",
   "execution_count": 5,
   "metadata": {},
   "outputs": [
    {
     "name": "stdout",
     "output_type": "stream",
     "text": [
      "Hello, my name is Alice and I am 25 years old.\n",
      "Hello, my name is Bob and I am 30 years old.\n"
     ]
    }
   ],
   "source": [
    "# question 11\n",
    "\n",
    "class Person:\n",
    "    def __init__(self, name, age):\n",
    "        self.name = name\n",
    "        self.age = age\n",
    "\n",
    "    def greet(self):  # Method to print a greeting message\n",
    "        print(f\"Hello, my name is {self.name} and I am {self.age} years old.\")\n",
    "\n",
    "# Creating person objects\n",
    "person1 = Person(\"Alice\", 25)\n",
    "person2 = Person(\"Bob\", 30)\n",
    "\n",
    "# Calling greet method\n",
    "person1.greet()  # Output: Hello, my name is Alice and I am 25 years old.\n",
    "person2.greet()  # Output: Hello, my name is Bob and I am 30 years old."
   ]
  },
  {
   "cell_type": "code",
   "execution_count": 6,
   "metadata": {},
   "outputs": [
    {
     "name": "stdout",
     "output_type": "stream",
     "text": [
      "Alice's Average Grade: 84.33333333333333\n",
      "Bob's Average Grade: 88.75\n"
     ]
    }
   ],
   "source": [
    "# question 12\n",
    "\n",
    "class Student:\n",
    "    def __init__(self, name, grades):\n",
    "        self.name = name\n",
    "        self.grades = grades  # List of grades\n",
    "\n",
    "    def average_grade(self):  # Method to calculate average\n",
    "        return sum(self.grades) / len(self.grades) if self.grades else 0\n",
    "\n",
    "# Creating student objects\n",
    "student1 = Student(\"Alice\", [85, 90, 78])\n",
    "student2 = Student(\"Bob\", [92, 88, 95, 80])\n",
    "\n",
    "# Printing average grades\n",
    "print(f\"{student1.name}'s Average Grade:\", student1.average_grade())\n",
    "print(f\"{student2.name}'s Average Grade:\", student2.average_grade())"
   ]
  },
  {
   "cell_type": "code",
   "execution_count": 7,
   "metadata": {},
   "outputs": [
    {
     "name": "stdout",
     "output_type": "stream",
     "text": [
      "Area of Rectangle: 15\n"
     ]
    }
   ],
   "source": [
    "# question 13\n",
    "\n",
    "class Rectangle:\n",
    "    def __init__(self):\n",
    "        self.length = 0\n",
    "        self.width = 0\n",
    "\n",
    "    def set_dimensions(self, length, width):  # Method to set dimensions\n",
    "        self.length = length\n",
    "        self.width = width\n",
    "\n",
    "    def area(self):  # Method to calculate area\n",
    "        return self.length * self.width\n",
    "\n",
    "# Creating a rectangle object\n",
    "rect = Rectangle()\n",
    "\n",
    "# Setting dimensions\n",
    "rect.set_dimensions(5, 3)\n",
    "\n",
    "# Calculating and printing area\n",
    "print(\"Area of Rectangle:\", rect.area())"
   ]
  },
  {
   "cell_type": "code",
   "execution_count": 9,
   "metadata": {},
   "outputs": [
    {
     "name": "stdout",
     "output_type": "stream",
     "text": [
      "Alice's Salary: INR 800\n",
      "Bob's Salary: INR 1700\n"
     ]
    }
   ],
   "source": [
    "# question 14\n",
    "\n",
    "class Employee:\n",
    "    def __init__(self, name, hours_worked, hourly_rate):\n",
    "        self.name = name\n",
    "        self.hours_worked = hours_worked\n",
    "        self.hourly_rate = hourly_rate\n",
    "\n",
    "    def calculate_salary(self):  # Method to calculate salary\n",
    "        return self.hours_worked * self.hourly_rate\n",
    "\n",
    "class Manager(Employee):  # Manager class inherits from Employee\n",
    "    def __init__(self, name, hours_worked, hourly_rate, bonus):\n",
    "        super().__init__(name, hours_worked, hourly_rate)\n",
    "        self.bonus = bonus  # Additional attribute for Manager\n",
    "\n",
    "    def calculate_salary(self):  # Overriding the method to add bonus\n",
    "        return super().calculate_salary() + self.bonus\n",
    "\n",
    "# Creating Employee and Manager objects\n",
    "emp = Employee(\"Alice\", 40, 20)  # 40 hours, $20 per hour\n",
    "mgr = Manager(\"Bob\", 40, 30, 500)  # 40 hours, $30 per hour + $500 bonus\n",
    "\n",
    "# Printing salaries\n",
    "print(f\"{emp.name}'s Salary: INR {emp.calculate_salary()}\")\n",
    "print(f\"{mgr.name}'s Salary: INR {mgr.calculate_salary()}\")"
   ]
  },
  {
   "cell_type": "code",
   "execution_count": 12,
   "metadata": {},
   "outputs": [
    {
     "name": "stdout",
     "output_type": "stream",
     "text": [
      "Total price of Laptop: INR 1600\n",
      "Total price of Phone: INR 1500\n"
     ]
    }
   ],
   "source": [
    "# question 15\n",
    "\n",
    "class Product:\n",
    "    def __init__(self, name, price, quantity):\n",
    "        self.name = name\n",
    "        self.price = price\n",
    "        self.quantity = quantity\n",
    "\n",
    "    def total_price(self):  # Method to calculate total price\n",
    "        return self.price * self.quantity\n",
    "\n",
    "# Creating product objects\n",
    "product1 = Product(\"Laptop\", 800, 2)\n",
    "product2 = Product(\"Phone\", 500, 3)\n",
    "\n",
    "# Printing total price of products\n",
    "print(f\"Total price of {product1.name}: INR {product1.total_price()}\")\n",
    "print(f\"Total price of {product2.name}: INR {product2.total_price()}\")"
   ]
  },
  {
   "cell_type": "code",
   "execution_count": 13,
   "metadata": {},
   "outputs": [
    {
     "name": "stdout",
     "output_type": "stream",
     "text": [
      "Cow Sound: Moo!\n",
      "Sheep Sound: Baa!\n"
     ]
    }
   ],
   "source": [
    "# question 16\n",
    "\n",
    "from abc import ABC, abstractmethod  # Importing abstract class tools\n",
    "\n",
    "class Animal(ABC):  # Abstract class\n",
    "    @abstractmethod\n",
    "    def sound(self):  # Abstract method (must be implemented in child classes)\n",
    "        pass\n",
    "\n",
    "class Cow(Animal):  # Cow class inherits from Animal\n",
    "    def sound(self):\n",
    "        return \"Moo!\"\n",
    "\n",
    "class Sheep(Animal):  # Sheep class inherits from Animal\n",
    "    def sound(self):\n",
    "        return \"Baa!\"\n",
    "\n",
    "# Creating objects of Cow and Sheep\n",
    "cow = Cow()\n",
    "sheep = Sheep()\n",
    "\n",
    "# Printing the sounds\n",
    "print(\"Cow Sound:\", cow.sound())    # Output: Moo!\n",
    "print(\"Sheep Sound:\", sheep.sound())  # Output: Baa!"
   ]
  },
  {
   "cell_type": "code",
   "execution_count": 14,
   "metadata": {},
   "outputs": [
    {
     "name": "stdout",
     "output_type": "stream",
     "text": [
      "'To Kill a Mockingbird' by Harper Lee, published in 1960.\n",
      "'1984' by George Orwell, published in 1949.\n"
     ]
    }
   ],
   "source": [
    "# question 17\n",
    "\n",
    "class Book:\n",
    "    def __init__(self, title, author, year_published):\n",
    "        self.title = title\n",
    "        self.author = author\n",
    "        self.year_published = year_published\n",
    "\n",
    "    def get_book_info(self):  # Method to return formatted book details\n",
    "        return f\"'{self.title}' by {self.author}, published in {self.year_published}.\"\n",
    "\n",
    "# Creating book objects\n",
    "book1 = Book(\"To Kill a Mockingbird\", \"Harper Lee\", 1960)\n",
    "book2 = Book(\"1984\", \"George Orwell\", 1949)\n",
    "\n",
    "# Printing book information\n",
    "print(book1.get_book_info())\n",
    "print(book2.get_book_info())"
   ]
  },
  {
   "cell_type": "code",
   "execution_count": 16,
   "metadata": {},
   "outputs": [
    {
     "name": "stdout",
     "output_type": "stream",
     "text": [
      "Address: 123 MG Road, Price: INR 250000\n",
      "Address: 456 SV Road, Price: INR 1000000, Rooms: 10\n"
     ]
    }
   ],
   "source": [
    "# question 18\n",
    "\n",
    "class House:\n",
    "    def __init__(self, address, price):\n",
    "        self.address = address\n",
    "        self.price = price\n",
    "\n",
    "    def get_details(self):  # Method to return house details\n",
    "        return f\"Address: {self.address}, Price: INR {self.price}\"\n",
    "\n",
    "class Mansion(House):  # Mansion class inherits from House\n",
    "    def __init__(self, address, price, number_of_rooms):\n",
    "        super().__init__(address, price)  # Calling parent class constructor\n",
    "        self.number_of_rooms = number_of_rooms\n",
    "\n",
    "    def get_details(self):  # Overriding the method to add number_of_rooms\n",
    "        return f\"Address: {self.address}, Price: INR {self.price}, Rooms: {self.number_of_rooms}\"\n",
    "\n",
    "# Creating objects\n",
    "house = House(\"123 MG Road\", 250000)\n",
    "mansion = Mansion(\"456 SV Road\", 1000000, 10)\n",
    "\n",
    "# Printing details\n",
    "print(house.get_details())   # Output: Address: 123 MG Road, Price: $250000\n",
    "print(mansion.get_details()) # Output: Address: 456 SV Road, Price: $1000000, Rooms: 10"
   ]
  },
  {
   "cell_type": "markdown",
   "metadata": {},
   "source": [
    "<h1>Theory Questions</h1>"
   ]
  },
  {
   "cell_type": "markdown",
   "metadata": {},
   "source": [
    "**Question1:**<br>\n",
    "Object-Oriented Programming (OOP) is a programming paradigm that organizes software design around data, or \"objects,\" which contain both data and methods.<br> \n",
    "It emphasizes principles such as encapsulation, inheritance, polymorphism, and abstraction to enhance code modularity, reusability, and maintainability.<br> \n",
    "Languages like Java, C++, Python, and C# support OOP.<br>"
   ]
  },
  {
   "cell_type": "markdown",
   "metadata": {},
   "source": [
    "**Question 2:**<br>\n",
    "In Object-Oriented Programming (OOP), a class serves as a blueprint for creating objects. It defines the properties (attributes) and behaviors (methods) that the objects instantiated from it will possess. Classes promote modularity and code reusability by encapsulating data and the functions that operate on that data within a single unit.<br>\n",
    "Key Aspects of a Class:<br>\n",
    "\n",
    "Attributes: These are variables that hold data specific to the object. For example, in a Car class, attributes might include color, make, and model.<br>\n",
    "\n",
    "Methods: These are functions defined within the class that describe the behaviors or actions the object can perform. For instance, a Car class might have methods like start_engine() or accelerate().<br>"
   ]
  },
  {
   "cell_type": "markdown",
   "metadata": {},
   "source": [
    "**Question 3:**<br>\n",
    "In Object-Oriented Programming (OOP), an object is a fundamental unit that encapsulates both data and the methods that operate on that data. Objects are instances of classes, which serve as blueprints defining the attributes and behaviors that the objects will have.<br>\n",
    "Key Characteristics of an Object:<br>\n",
    "\n",
    "Identity: A unique identifier that distinguishes the object from others.<br>\n",
    "\n",
    "State: The data or attributes that represent the object's current condition.<br>\n",
    "\n",
    "Behavior: The methods or functions that define the object's actions or reactions.<br>\n",
    "\n",
    "For example, consider an object representing a car. Its state might include attributes like color, make, and model, while its behavior could encompass methods such as start_engine() or accelerate().<br>"
   ]
  },
  {
   "cell_type": "markdown",
   "metadata": {},
   "source": [
    "**Question 4:**<br>\n",
    "**Abstraction** focuses on exposing only the essential features of an object while concealing unnecessary details. This simplification allows developers to interact with complex systems more easily by providing a clear and simplified interface. For example, when using a smartphone, users interact with a simple interface without needing to understand the intricate hardware operations behind the scenes. \n",
    "<br>\n",
    "**Encapsulation**, on the other hand, involves bundling data and the methods that operate on that data into a single unit, typically a class. This concept restricts direct access to some of an object's components, which can prevent unintended interference and misuse of the data. For instance, a class in a program may have private variables that cannot be accessed directly from outside the class; instead, controlled access is provided through public methods.<br>"
   ]
  },
  {
   "cell_type": "markdown",
   "metadata": {},
   "source": [
    "**Question 5:**<br>\n",
    "In Python, dunder methods—short for \"double underscore\" methods and also known as magic methods—are special methods with names that begin and end with double underscores, like __init__ or __str__. These methods enable developers to define or customize the behavior of classes when they interact with Python's built-in operations and functions.<br>\n",
    "Common Examples of Dunder Methods:<br>\n",
    "__init__(self, ...): Called when a new instance of a class is created, allowing for the initialization of the object's attributes.<br>\n",
    "\n",
    "__str__(self): Defines the behavior of the str() function and the print statement, returning a human-readable string representation of the object.<br>\n",
    "\n",
    "__repr__(self): Provides an official string representation of the object, typically one that could be used to recreate the object.<br>\n",
    "\n",
    "__add__(self, other): Enables the use of the + operator to add two objects of a class.<br>\n",
    "\n",
    "__len__(self): Allows the class to define behavior for the built-in len() function, returning the length of the object.<br>"
   ]
  },
  {
   "cell_type": "markdown",
   "metadata": {},
   "source": [
    "**Question 6:**\n",
    "In Object-Oriented Programming (OOP), **inheritance** is a mechanism that allows a class to inherit properties and behaviors (attributes and methods) from another class. This promotes code reusability and establishes a hierarchical relationship between classes. <br>\n",
    "**Key Concepts:**<br>\n",
    "\n",
    "Superclass (Base Class): The class whose properties and methods are inherited.<br>\n",
    "\n",
    "Subclass (Derived Class): The class that inherits from the superclass.<br>\n",
    "\n",
    "**Benefits of Inheritance:**<br>\n",
    "\n",
    "Code Reusability: Allows subclasses to use existing code from superclasses, reducing redundancy.<br>\n",
    "\n",
    "Hierarchical Classification: Establishes a natural hierarchy, making code more organized and understandable.<br>\n",
    "Types of Inheritance:<br>\n",
    "\n",
    "Single Inheritance: A subclass inherits from one superclass.<br>\n",
    "\n",
    "Multiple Inheritance: A subclass inherits from more than one superclass.<br>\n",
    "\n",
    "Multilevel Inheritance: A subclass inherits from a superclass, which in turn inherits from another superclass.<br>\n",
    "\n",
    "Hierarchical Inheritance: Multiple subclasses inherit from a single superclass.<br>\n",
    "\n",
    "Hybrid Inheritance: A combination of two or more types of inheritance.<br>"
   ]
  },
  {
   "cell_type": "markdown",
   "metadata": {},
   "source": [
    "**Question 7:**<br>\n",
    "In Object-Oriented Programming (OOP), polymorphism allows objects of different classes to be treated as instances of a common superclass. This enables a unified interface to interact with various object types, enhancing code flexibility and maintainability. <br>\n",
    "**Key Types of Polymorphism:**<br>\n",
    "Compile-Time Polymorphism (Static Binding): Achieved through method overloading, where multiple methods share the same name but differ in parameters (number, type, or both). The method to be invoked is determined at compile time. \n",
    "<br>\n",
    "Run-Time Polymorphism (Dynamic Binding): Implemented via method overriding, where a subclass provides a specific implementation of a method already defined in its superclass. The method to be executed is determined at runtime based on the object's actual type.<br>\n",
    "**Benefits of Polymorphism:**\n",
    "\n",
    "Code Reusability: Allows the same interface to be used for different underlying forms (data types), reducing redundancy.<br>\n",
    "\n",
    "Scalability: Facilitates the addition of new classes with minimal changes to existing code.<br>\n",
    "\n",
    "Maintainability: Simplifies code management by allowing a single function to handle different data types and classes.<br>"
   ]
  },
  {
   "cell_type": "markdown",
   "metadata": {},
   "source": [
    "**Question 8:**<br>\n",
    "In Python, **encapsulation** is a fundamental concept in object-oriented programming that involves bundling data (attributes) and methods (functions) within a class, restricting direct access to some components to safeguard the internal state and ensure controlled interaction. \n",
    "<br>\n",
    "\n",
    "**Achieving Encapsulation in Python:**<br>\n",
    "\n",
    "Unlike some languages with explicit access modifiers (e.g., public, private, protected), Python relies on naming conventions to indicate the intended level of access for class members:<br>\n",
    "Public Members: Attributes and methods intended for use both within and outside the class. By default, all class members are public.<br>\n",
    "Protected Members: Indicated by a single underscore prefix (e.g., _protected_member). These are intended for internal use within the class and its subclasses, signaling that they shouldn't be accessed directly from outside.<br>\n",
    "Private Members: Indicated by a double underscore prefix (e.g., __private_member). This triggers name mangling, where the interpreter changes the name of the variable to include the class name, making it harder to access from outside the class.<br>"
   ]
  },
  {
   "cell_type": "markdown",
   "metadata": {},
   "source": [
    "**Question 9:**<br>\n",
    "In Python, a constructor is a special method automatically invoked when a new object of a class is created. Its primary purpose is to initialize the object's attributes, ensuring it starts in a valid state.<br>\n",
    "\n",
    "The __init__ Method:<br>\n",
    "\n",
    "The __init__ method serves as the constructor in Python. Defined within a class, it sets up the initial state of an object by assigning values to its attributes. The first parameter, conventionally named self, refers to the instance being created.<br>\n",
    "**Types of Constructors:**\n",
    "\n",
    "Default Constructor: If a class doesn't explicitly define a constructor, Python provides a default one that doesn't perform any initialization.<br>\n",
    "Parameterized Constructor: A constructor that accepts arguments to initialize an object's attributes.<br>\n"
   ]
  },
  {
   "cell_type": "markdown",
   "metadata": {},
   "source": [
    "**Question 10:**<br>\n",
    "In Python, class methods and static methods are two distinct types of methods that serve different purposes within a class structure.<br>\n",
    "\n",
    "Class Methods:<br>\n",
    "\n",
    "Class methods are methods that are bound to the class itself rather than to its instances. They can access and modify class state that applies across all instances of the class. To define a class method, the @classmethod decorator is used, and the method receives the class (cls) as its first parameter.<br>\n",
    "\n",
    "Key Characteristics:<br>\n",
    "\n",
    "Accesses class variables and methods.<br>\n",
    "\n",
    "Can modify class state that affects all instances.<br>\n",
    "\n",
    "Often used for factory methods that instantiate the class using alternative constructors.<br>"
   ]
  },
  {
   "cell_type": "markdown",
   "metadata": {},
   "source": [
    "**Question 11:**<br>\n",
    "In many programming languages, method overloading allows a class to have multiple methods with the same name but different parameters (either in number or type). However, Python does not support traditional method overloading. Defining multiple methods with the same name in a class will result in the last definition overriding the previous ones. \n",
    "<br>\n",
    "\n",
    "**Achieving Method Overloading in Python:**<br>\n",
    "\n",
    "While Python lacks built-in support for method overloading, similar functionality can be achieved using the following techniques:<br>\n",
    "\n",
    "Default Arguments:<br>\n",
    "\n",
    "By assigning default values to parameters, methods can handle various argument combinations.<br>\n",
    "Variable-Length Arguments (*args and **kwargs):<br>\n",
    "\n",
    "Using *args and **kwargs, methods can accept an arbitrary number of positional and keyword arguments.<br>"
   ]
  },
  {
   "cell_type": "markdown",
   "metadata": {},
   "source": [
    "**Question 12:**<br>\n",
    "In object-oriented programming (OOP), method overriding allows a subclass to provide a specific implementation of a method that is already defined in its superclass. This feature enables a subclass to tailor or extend the behavior of inherited methods to suit its specific needs. \n",
    "<br>\n",
    "\n",
    "Key Characteristics of Method Overriding:<br>\n",
    "\n",
    "Same Method Signature: The overriding method in the subclass must have the same name, parameters, and return type as the method in the superclass.<br>\n",
    "\n",
    "Runtime Polymorphism: Method overriding facilitates runtime polymorphism, allowing the program to determine at runtime which method implementation to execute based on the object's actual type.<br>\n",
    "\n",
    "Access Modifiers: The access level of the overriding method cannot be more restrictive than that of the overridden method. For example, if the superclass method is public, the subclass method cannot be protected or private. <br>"
   ]
  },
  {
   "cell_type": "markdown",
   "metadata": {},
   "source": [
    "**Question 13:**<br>\n",
    "In Python, the @property decorator allows class methods to be accessed like attributes, enabling controlled access to instance variables. This promotes encapsulation and data validation. <br>\n",
    "class Celsius:<br>\n",
    "    def __init__(self, temperature=0):<br>\n",
    "        self._temperature = temperature<br>\n",
    "\n",
    "    @property<br>\n",
    "    def temperature(self):<br>\n",
    "        return self._temperature<br>\n",
    "\n",
    "    @temperature.setter<br>\n",
    "    def temperature(self, value):<br>\n",
    "        if value < -273.15:<br>\n",
    "            raise ValueError(\"Temperature below -273.15 is not possible.\")<br>\n",
    "        self._temperature = value<br>"
   ]
  },
  {
   "cell_type": "markdown",
   "metadata": {},
   "source": [
    "**Question 14:**<br>\n",
    "Polymorphism is a fundamental concept in object-oriented programming (OOP) that allows objects of different classes to be treated as instances of a common superclass. This capability enables a single interface to represent various underlying forms (data types), promoting flexibility and integration of new functionalities with minimal code changes. \n",
    "<br>\n",
    "Key Benefits of Polymorphism in OOP:<br>\n",
    "\n",
    "Code Reusability: Developers can write generic functions or methods that operate on objects of different classes, reducing redundancy and enhancing maintainability. <br>\n",
    "\n",
    "Flexibility and Extensibility: Systems can be designed to accommodate new object types seamlessly, allowing for easy expansion and adaptation to changing requirements. \n",
    "<br>\n",
    "\n",
    "Simplified Code Maintenance: By utilizing a unified interface, polymorphism simplifies code maintenance and readability, making it easier to manage and update complex systems.<br>"
   ]
  },
  {
   "cell_type": "markdown",
   "metadata": {},
   "source": [
    "**Question 15:**\n",
    "In Python, an abstract class serves as a blueprint for other classes, allowing you to define common interfaces for related objects. These classes cannot be instantiated directly and are intended to be subclassed by concrete classes that implement the abstract methods. \n",
    "<br>\n",
    "\n",
    "Defining Abstract Classes:<br>\n",
    "\n",
    "To create an abstract class in Python, you utilize the abc module, which provides the infrastructure for defining Abstract Base Classes (ABCs). By inheriting from the ABC class and decorating methods with @abstractmethod, you can specify methods that must be implemented by any subclass.<br>"
   ]
  },
  {
   "cell_type": "markdown",
   "metadata": {},
   "source": [
    "**Question 16:**\n",
    "Object-Oriented Programming (OOP) offers several key advantages:<br>\n",
    "\n",
    "Modularity: Encapsulation allows for modular code, making it easier to isolate and troubleshoot specific sections without affecting the entire system. <br>\n",
    "\n",
    "Code Reusability: Inheritance enables classes to reuse properties and methods from existing classes, reducing redundancy and promoting efficient code reuse. \n",
    "<br>\n",
    "\n",
    "Flexibility: Polymorphism allows objects to be treated as instances of their parent class, enabling a single function to operate on different object types and enhancing flexibility. \n",
    "<br>\n",
    "\n",
    "Effective Problem-Solving: Abstraction simplifies complex problems by allowing developers to focus on essential qualities of an object, enhancing problem-solving capabilities. \n",
    "<br>\n",
    "\n",
    "Enhanced Code Maintenance: The modular nature of OOP simplifies code maintenance, allowing developers to update and manage systems with less effort and more accuracy. <br>"
   ]
  },
  {
   "cell_type": "markdown",
   "metadata": {},
   "source": [
    "**Question 17:**<br>\n",
    "In object-oriented programming, class variables and instance variables differ in scope and behavior:\n",
    "\n",
    "Class Variables: Shared among all instances of a class, these variables are defined within the class but outside any methods. Modifying a class variable affects all instances. \n",
    "<br>\n",
    "\n",
    "Instance Variables: Unique to each object, these variables are defined within methods (typically __init__) and prefixed with self. Changes to an instance variable affect only that particular object. <br>"
   ]
  },
  {
   "cell_type": "markdown",
   "metadata": {},
   "source": [
    "**Question 18:**<br>\n",
    "In Python, multiple inheritance allows a class to inherit attributes and methods from more than one parent class. This feature enables the creation of classes that combine functionalities from multiple sources.<br>\n",
    "Method Resolution Order (MRO):<br>\n",
    "\n",
    "Python uses the C3 linearization algorithm to determine the order in which base classes are searched when executing a method. This order can be viewed using the __mro__ attribute or the mro() method.<br>\n"
   ]
  },
  {
   "cell_type": "markdown",
   "metadata": {},
   "source": [
    "**Question 19:**<br>\n",
    "In Python, the __str__ and __repr__ methods are special dunder methods that define how objects are represented as strings, serving different purposes:<br>\n",
    "\n",
    "__str__: Provides a human-readable, informal string representation of an object, suitable for end-users. It's invoked by the str() function and the print() statement.<br>\n",
    "\n",
    "__repr__: Offers an official, unambiguous string representation of an object, aimed at developers. It's called by the repr() function and is useful for debugging. Ideally, the output should be a valid Python expression to recreate the object.<br>"
   ]
  },
  {
   "cell_type": "markdown",
   "metadata": {},
   "source": [
    "**Question 20:**<br>\n",
    "In Python, the super() function is a built-in feature that returns a proxy object, allowing you to access methods and properties of a superclass from a subclass. This is particularly useful in object-oriented programming when dealing with inheritance, as it enables you to extend or modify the behavior of inherited methods without explicitly referencing the parent class.<br>\n",
    "\n",
    "Key Purposes of super():<br>\n",
    "\n",
    "Accessing Parent Class Methods: super() allows a subclass to invoke methods defined in its parent class, facilitating code reuse and extension.<br>\n",
    "Avoiding Explicit Base Class References: By using super(), you can call superclass methods without hardcoding the parent class name, making your code more maintainable, especially in complex hierarchies.<br>\n",
    "Supporting Multiple Inheritance: In scenarios involving multiple inheritance, super() ensures that the method resolution order (MRO) is followed, thereby invoking methods in the correct sequence.<br>"
   ]
  },
  {
   "cell_type": "markdown",
   "metadata": {},
   "source": [
    "**Question 21:**<br>\n",
    "In Python, the __del__ method, often referred to as a destructor, is a special method invoked when an object is about to be destroyed. This typically occurs when an object's reference count drops to zero, meaning no references to the object remain. The primary purpose of the __del__ method is to allow for the execution of cleanup actions, such as releasing external resources (e.g., files, network connections) that the object may have acquired during its lifecycle.<br>\n"
   ]
  },
  {
   "cell_type": "markdown",
   "metadata": {},
   "source": [
    "**Question 22:**<br>\n",
    "In Python, @staticmethod and @classmethod are decorators that define methods within a class, each serving distinct purposes:<br>\n",
    "\n",
    "@staticmethod: Defines a method that doesn't access or modify the class state or instance state. It behaves like a regular function but resides within the class's namespace.<br>\n",
    "\n",
    "@classmethod: Defines a method that receives the class itself as its first argument, typically named cls. This allows the method to access and modify class-level attributes.<br>\n",
    "\n",
    "Key Differences:<br>\n",
    "\n",
    "Access to Class/Instance:<br>\n",
    "\n",
    "@staticmethod: Lacks access to both class (cls) and instance (self) data.<br>\n",
    "@classmethod: Has access to the class object via cls, enabling modification of class state.<br>\n",
    "Use Cases:<br>\n",
    "\n",
    "@staticmethod: Ideal for utility functions related to the class but not dependent on class or instance data.<br>\n",
    "@classmethod: Suitable for factory methods or methods that need to modify class-level attributes.<br>"
   ]
  },
  {
   "cell_type": "markdown",
   "metadata": {},
   "source": [
    "**Question 23:**<br>\n",
    "Polymorphism in Python allows objects of different classes to be treated as instances of a common superclass, enabling a unified interface for diverse object types. This is primarily achieved through inheritance and method overriding, where subclasses provide specific implementations of methods defined in their parent class. <br>\n",
    "Benefits of Polymorphism with Inheritance:<br>\n",
    "\n",
    "Code Reusability: Allows the use of a unified interface to interact with different object types, promoting code reuse.<br>\n",
    "\n",
    "Flexibility: Enables the addition of new classes with minimal changes to existing code, as long as they adhere to the common interface.<br>\n",
    "\n",
    "Maintainability: Simplifies code maintenance by allowing behavior to be modified in subclasses without altering the parent class or other subclasses.<br>"
   ]
  },
  {
   "cell_type": "markdown",
   "metadata": {},
   "source": [
    "**Question 24:** <br>\n",
    " In Python's object-oriented programming, method chaining refers to the practice of invoking multiple methods sequentially on an object in a single, continuous line of code. This technique enhances code readability and conciseness by eliminating the need for intermediate variables. <br>\n",
    "\n",
    "How Method Chaining Works:<br>\n",
    "\n",
    "For method chaining to function effectively, each method in the chain must return the object itself (self). This allows subsequent methods to be called on the same object instance.<br>"
   ]
  },
  {
   "cell_type": "markdown",
   "metadata": {},
   "source": [
    "**Question 25:**<br>\n",
    "In Python, the __call__ method is a special dunder method that allows an instance of a class to be invoked as if it were a regular function. By implementing __call__, you enable your class instances to be called with parentheses, passing arguments just like a function call.<br>\n",
    "\n",
    "Purpose and Usage:<br>\n",
    "\n",
    "The primary purpose of the __call__ method is to make class instances callable. This feature is particularly useful in scenarios where you want an object to exhibit function-like behavior while maintaining its state or when implementing design patterns like decorators or the strategy pattern.<br>"
   ]
  },
  {
   "cell_type": "markdown",
   "metadata": {},
   "source": []
  }
 ],
 "metadata": {
  "kernelspec": {
   "display_name": "Python 3",
   "language": "python",
   "name": "python3"
  },
  "language_info": {
   "codemirror_mode": {
    "name": "ipython",
    "version": 3
   },
   "file_extension": ".py",
   "mimetype": "text/x-python",
   "name": "python",
   "nbconvert_exporter": "python",
   "pygments_lexer": "ipython3",
   "version": "3.13.1"
  }
 },
 "nbformat": 4,
 "nbformat_minor": 2
}
